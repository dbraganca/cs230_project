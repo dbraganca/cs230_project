{
 "cells": [
  {
   "cell_type": "code",
   "execution_count": 1,
   "metadata": {},
   "outputs": [
    {
     "data": {
      "text/plain": [
       "' Final project for CS 230 - Detection depression with text, audio, and possibly video data'"
      ]
     },
     "execution_count": 1,
     "metadata": {},
     "output_type": "execute_result"
    }
   ],
   "source": [
    "''' Final project for CS 230 - Detection depression with text, audio, and possibly video data'''"
   ]
  },
  {
   "cell_type": "code",
   "execution_count": 1,
   "metadata": {
    "scrolled": true
   },
   "outputs": [
    {
     "name": "stderr",
     "output_type": "stream",
     "text": [
      "C:\\Users\\diogo\\Anaconda3\\envs\\tf\\lib\\site-packages\\gensim\\utils.py:1197: UserWarning:\n",
      "\n",
      "detected Windows; aliasing chunkize to chunkize_serial\n",
      "\n",
      "Using TensorFlow backend.\n"
     ]
    }
   ],
   "source": [
    "%matplotlib inline\n",
    "import matplotlib.pyplot as plt\n",
    "import os\n",
    "import re\n",
    "import numpy as np\n",
    "import pandas as pd\n",
    "import plotly.plotly as py\n",
    "import plotly.figure_factory as ff\n",
    "from scipy import stats\n",
    "\n",
    "import gensim\n",
    "import json\n",
    "\n",
    "\n",
    "import nltk\n",
    "from nltk.stem import WordNetLemmatizer\n",
    "from nltk.corpus import stopwords\n",
    "from nltk.tokenize import word_tokenize\n",
    "from nltk.stem import PorterStemmer\n",
    "\n",
    "import itertools\n",
    "\n",
    "import keras\n",
    "\n",
    "from keras.models import Sequential, Model\n",
    "from keras.layers import Dense, Dropout, Embedding, LSTM, Input, Activation, GlobalAveragePooling1D, Flatten, Concatenate, Conv1D, MaxPooling1D\n",
    "from keras.layers.normalization import BatchNormalization\n",
    "from keras.layers.merge import concatenate\n",
    "from keras.optimizers import SGD, RMSprop, Adagrad, Adam\n",
    "from keras.preprocessing.text import one_hot, text_to_word_sequence, Tokenizer\n",
    "from keras.preprocessing.sequence import pad_sequences\n",
    "\n",
    "from keras.callbacks import EarlyStopping, ModelCheckpoint\n",
    "from keras.utils.vis_utils import plot_model\n",
    "\n",
    "import fnmatch\n",
    "\n",
    "import warnings\n",
    "\n",
    "import string\n",
    "from pathlib import Path\n",
    "from random import shuffle\n",
    "from ast import literal_eval\n",
    "\n",
    "warnings.filterwarnings('ignore')"
   ]
  },
  {
   "cell_type": "code",
   "execution_count": 2,
   "metadata": {},
   "outputs": [],
   "source": [
    "#nltk.download('wordnet')\n",
    "#nltk.download('stopwords')\n",
    "wordnet_lemmatizer = WordNetLemmatizer()"
   ]
  },
  {
   "cell_type": "code",
   "execution_count": 14,
   "metadata": {},
   "outputs": [],
   "source": [
    "WINDOWS_SIZE = 10\n",
    "labels=['none','mild','moderate','moderately severe', 'severe']\n",
    "num_classes = len(labels)"
   ]
  },
  {
   "cell_type": "code",
   "execution_count": 3,
   "metadata": {},
   "outputs": [],
   "source": [
    "def plot_acc(history, title=\"Model Accuracy\"):\n",
    "    plt.plot(history.history['acc'])\n",
    "    plt.plot(history.history['val_acc'])\n",
    "    plt.title(title)\n",
    "    plt.ylabel('Accuracy')\n",
    "    plt.xlabel('Epoch')\n",
    "    plt.legend(['Train', 'Val'], loc='upper left')\n",
    "    plt.show()\n",
    "    \n",
    "def plot_loss(history, title=\"Model Loss\"):\n",
    "    plt.plot(history.history['loss'])\n",
    "    plt.plot(history.history['val_loss'])\n",
    "    plt.title(title)\n",
    "    plt.ylabel('Loss')\n",
    "    plt.xlabel('Epoch')\n",
    "    plt.legend(['Train', 'Val'], loc='upper right')\n",
    "    plt.show()\n",
    "    \n",
    "def plot_compare_losses(history1, history2, name1=\"Red 1\", name2=\"Red 2\", title=\"Graph title\"):\n",
    "    plt.plot(history1.history['loss'], color=\"green\")\n",
    "    plt.plot(history1.history['val_loss'], 'r--', color=\"green\")\n",
    "    plt.plot(history2.history['loss'], color=\"blue\")\n",
    "    plt.plot(history2.history['val_loss'], 'r--', color=\"blue\")\n",
    "    plt.title(title)\n",
    "    plt.ylabel('Loss')\n",
    "    plt.xlabel('Epoch')\n",
    "    plt.legend(['Train ' + name1, 'Val ' + name1, \n",
    "                'Train ' + name2, 'Val ' + name2],\n",
    "               loc='upper right')\n",
    "    plt.show()\n",
    "    \n",
    "def plot_compare_accs(history1, history2, name1=\"Red 1\",\n",
    "                      name2=\"Red 2\", title=\"Graph title\"):\n",
    "    \"\"\"Compara accuracies de dos entrenamientos con nombres name1 y name2\"\"\"\n",
    "    plt.plot(history1.history['acc'], color=\"green\")\n",
    "    plt.plot(history1.history['val_acc'], 'r--', color=\"green\")\n",
    "    plt.plot(history2.history['acc'], color=\"blue\")\n",
    "    plt.plot(history2.history['val_acc'], 'r--', color=\"blue\")\n",
    "    plt.title(title)\n",
    "    plt.ylabel('Accuracy')\n",
    "    plt.xlabel('Epoch')\n",
    "    plt.legend(['Train ' + name1, 'Val ' + name1, \n",
    "                'Train ' + name2, 'Val ' + name2], \n",
    "               loc='lower right')\n",
    "    plt.show()\n",
    "\n",
    "def plot_compare_multiple_metrics(history_array, names, colors, title=\"Graph title\", metric='acc'):  \n",
    "    legend = []\n",
    "    for i in range(0, len(history_array)):\n",
    "        plt.plot(history_array[i].history[metric], color=colors[i])\n",
    "        plt.plot(history_array[i].history['val_' + metric], 'r--', color=colors[i])\n",
    "        legend.append('Train ' + names[i])\n",
    "        legend.append('Val ' + names[i])\n",
    "    \n",
    "    plt.title(title)\n",
    "    plt.ylabel('Accuracy')\n",
    "    plt.xlabel('Epoch')   \n",
    "    plt.axis\n",
    "    plt.legend(legend, \n",
    "               loc='lower right')\n",
    "    plt.show()"
   ]
  },
  {
   "cell_type": "code",
   "execution_count": 4,
   "metadata": {},
   "outputs": [],
   "source": [
    "def transcripts_to_dataframe(directory):\n",
    "    rows_list = []\n",
    "        \n",
    "    filenames = os.listdir(directory)\n",
    "    \n",
    "    if \".DS_Store\" in filenames:\n",
    "        filenames.remove(\".DS_Store\")\n",
    "        \n",
    "    for filename in filenames:\n",
    "        transcript_path = os.path.join(directory, filename)\n",
    "        transcript = pd.read_csv(transcript_path, sep='\\t')\n",
    "        m = re.search(\"(\\d{3})_TRANSCRIPT.csv\", filename)\n",
    "        if m:\n",
    "            person_id = m.group(1)\n",
    "            p = {}\n",
    "            question = \"\"\n",
    "            answer = \"\"\n",
    "            lines = len(transcript)\n",
    "            for i in range(0, lines):\n",
    "                row = transcript.iloc[i]\n",
    "                if (row[\"speaker\"] == \"Ellie\") or (i == lines - 1):\n",
    "                    p[\"personId\"] = person_id\n",
    "                    if \"(\" in str(question):\n",
    "                        question = question[question.index(\"(\") + 1:question.index(\")\")]\n",
    "                    p[\"question\"] = question\n",
    "                    p[\"answer\"] = answer\n",
    "                    if question != \"\":\n",
    "                        rows_list.append(p)\n",
    "                    p = {}\n",
    "                    answer = \"\"\n",
    "                    question = row[\"value\"]\n",
    "                else:\n",
    "                    answer = str(answer) + \" \" + str(row[\"value\"])\n",
    "\n",
    "    all_participants = pd.DataFrame(rows_list, columns=['personId', 'question', 'answer'])\n",
    "    all_participants.to_csv(directory + 'all.csv', sep=',')\n",
    "    print(\"File was created\")\n",
    "    return all_participants"
   ]
  },
  {
   "cell_type": "code",
   "execution_count": 5,
   "metadata": {},
   "outputs": [],
   "source": [
    "data_path = \"data/raw/transcripts/\"\n",
    "all_participants = pd.read_csv(data_path + 'all.csv', sep=',')"
   ]
  },
  {
   "cell_type": "code",
   "execution_count": 6,
   "metadata": {},
   "outputs": [],
   "source": [
    "all_participants.columns =  ['index','personId', 'question', 'answer']\n",
    "all_participants = all_participants.astype({\"index\": int, \"personId\": float, \"question\": str, \"answer\": str })"
   ]
  },
  {
   "cell_type": "code",
   "execution_count": 7,
   "metadata": {},
   "outputs": [
    {
     "data": {
      "text/html": [
       "<div>\n",
       "<style scoped>\n",
       "    .dataframe tbody tr th:only-of-type {\n",
       "        vertical-align: middle;\n",
       "    }\n",
       "\n",
       "    .dataframe tbody tr th {\n",
       "        vertical-align: top;\n",
       "    }\n",
       "\n",
       "    .dataframe thead th {\n",
       "        text-align: right;\n",
       "    }\n",
       "</style>\n",
       "<table border=\"1\" class=\"dataframe\">\n",
       "  <thead>\n",
       "    <tr style=\"text-align: right;\">\n",
       "      <th></th>\n",
       "      <th>index</th>\n",
       "      <th>personId</th>\n",
       "      <th>question</th>\n",
       "      <th>answer</th>\n",
       "    </tr>\n",
       "  </thead>\n",
       "  <tbody>\n",
       "    <tr>\n",
       "      <th>0</th>\n",
       "      <td>0</td>\n",
       "      <td>300.0</td>\n",
       "      <td>hi i'm ellie thanks for coming in today</td>\n",
       "      <td>nan</td>\n",
       "    </tr>\n",
       "    <tr>\n",
       "      <th>1</th>\n",
       "      <td>1</td>\n",
       "      <td>300.0</td>\n",
       "      <td>i was created to talk to people in a safe and ...</td>\n",
       "      <td>nan</td>\n",
       "    </tr>\n",
       "    <tr>\n",
       "      <th>2</th>\n",
       "      <td>2</td>\n",
       "      <td>300.0</td>\n",
       "      <td>think of me as a friend i don't judge i can't ...</td>\n",
       "      <td>nan</td>\n",
       "    </tr>\n",
       "    <tr>\n",
       "      <th>3</th>\n",
       "      <td>3</td>\n",
       "      <td>300.0</td>\n",
       "      <td>i'm here to learn about people and would love ...</td>\n",
       "      <td>nan</td>\n",
       "    </tr>\n",
       "    <tr>\n",
       "      <th>4</th>\n",
       "      <td>4</td>\n",
       "      <td>300.0</td>\n",
       "      <td>i'll ask a few questions to get us started and...</td>\n",
       "      <td>nan</td>\n",
       "    </tr>\n",
       "  </tbody>\n",
       "</table>\n",
       "</div>"
      ],
      "text/plain": [
       "   index  personId                                           question answer\n",
       "0      0     300.0            hi i'm ellie thanks for coming in today    nan\n",
       "1      1     300.0  i was created to talk to people in a safe and ...    nan\n",
       "2      2     300.0  think of me as a friend i don't judge i can't ...    nan\n",
       "3      3     300.0  i'm here to learn about people and would love ...    nan\n",
       "4      4     300.0  i'll ask a few questions to get us started and...    nan"
      ]
     },
     "execution_count": 7,
     "metadata": {},
     "output_type": "execute_result"
    }
   ],
   "source": [
    "all_participants.head()"
   ]
  },
  {
   "cell_type": "code",
   "execution_count": 8,
   "metadata": {},
   "outputs": [],
   "source": [
    "# The function \"text_to_wordlist\" is from\n",
    "# https://www.kaggle.com/currie32/quora-question-pairs/the-importance-of-cleaning-text\n",
    "def text_to_wordlist(text, remove_stopwords=True, stem_words=False):    \n",
    "    # Clean the text, with the option to remove stopwords and to stem words.\n",
    "    \n",
    "    # Convert words to lower case and split them\n",
    "    text = text.lower().split()\n",
    "\n",
    "    # Optionally, remove stop words\n",
    "    if remove_stopwords:\n",
    "        stops = set(stopwords.words(\"english\"))\n",
    "        text = [wordnet_lemmatizer.lemmatize(w) for w in text if not w in stops ]\n",
    "        text = [w for w in text if w != \"nan\" ]\n",
    "    else:\n",
    "        text = [wordnet_lemmatizer.lemmatize(w) for w in text]\n",
    "        text = [w for w in text if w != \"nan\" ]\n",
    "    \n",
    "    text = \" \".join(text)\n",
    "\n",
    "    # Clean the text\n",
    "    text = re.sub(r\"[^A-Za-z0-9^,!.\\/'+-=]\", \" \", text)\n",
    "    text = re.sub(r\"what's\", \"what is \", text)\n",
    "    text = re.sub(r\"\\'s\", \" \", text)\n",
    "    text = re.sub(r\"\\'ve\", \" have \", text)\n",
    "    text = re.sub(r\"can't\", \"cannot \", text)\n",
    "    text = re.sub(r\"n't\", \" not \", text)\n",
    "    text = re.sub(r\"i'm\", \"i am \", text)\n",
    "    text = re.sub(r\"\\'re\", \" are \", text)\n",
    "    text = re.sub(r\"\\'d\", \" would \", text)\n",
    "    text = re.sub(r\"\\'ll\", \" will \", text)\n",
    "    text = re.sub(r\",\", \" \", text)\n",
    "    text = re.sub(r\"\\.\", \" \", text)\n",
    "    text = re.sub(r\"!\", \" ! \", text)\n",
    "    text = re.sub(r\"\\/\", \" \", text)\n",
    "    text = re.sub(r\"\\^\", \" ^ \", text)\n",
    "    text = re.sub(r\"\\+\", \" + \", text)\n",
    "    text = re.sub(r\"\\-\", \" - \", text)\n",
    "    text = re.sub(r\"\\=\", \" = \", text)\n",
    "    \n",
    "    text = re.sub(r\"\\<\", \" \", text)\n",
    "    text = re.sub(r\"\\>\", \" \", text)\n",
    "    \n",
    "    text = re.sub(r\"'\", \" \", text)\n",
    "    text = re.sub(r\"(\\d+)(k)\", r\"\\g<1>000\", text)\n",
    "    text = re.sub(r\":\", \" : \", text)\n",
    "    text = re.sub(r\" e g \", \" eg \", text)\n",
    "    text = re.sub(r\" b g \", \" bg \", text)\n",
    "    text = re.sub(r\" u s \", \" american \", text)\n",
    "    text = re.sub(r\"\\0s\", \"0\", text)\n",
    "    text = re.sub(r\" 9 11 \", \"911\", text)\n",
    "    text = re.sub(r\"e - mail\", \"email\", text)\n",
    "    text = re.sub(r\"j k\", \"jk\", text)\n",
    "    text = re.sub(r\"\\s{2,}\", \" \", text)\n",
    "    \n",
    "    # Optionally, shorten words to their stems\n",
    "    if stem_words:\n",
    "        text = text.split()\n",
    "        stemmer = SnowballStemmer('english')\n",
    "        stemmed_words = [stemmer.stem(word) for word in text]\n",
    "        text = \" \".join(stemmed_words)\n",
    "    \n",
    "    # Return a list of words\n",
    "    return(text)"
   ]
  },
  {
   "cell_type": "code",
   "execution_count": 9,
   "metadata": {},
   "outputs": [],
   "source": [
    "all_participants_mix = all_participants.copy()\n",
    "all_participants_mix['answer'] = all_participants_mix.apply(lambda row: text_to_wordlist(row.answer).split(), axis=1)"
   ]
  },
  {
   "cell_type": "code",
   "execution_count": 10,
   "metadata": {},
   "outputs": [],
   "source": [
    "all_participants_mix_stopwords = all_participants.copy()\n",
    "all_participants_mix_stopwords['answer'] = all_participants_mix_stopwords.apply(lambda row: text_to_wordlist(row.answer, remove_stopwords=False).split(), axis=1)"
   ]
  },
  {
   "cell_type": "code",
   "execution_count": 11,
   "metadata": {},
   "outputs": [],
   "source": [
    "words = [w for w in all_participants_mix['answer'].tolist()]\n",
    "words = set(itertools.chain(*words))\n",
    "vocab_size = len(words)"
   ]
  },
  {
   "cell_type": "code",
   "execution_count": 12,
   "metadata": {},
   "outputs": [],
   "source": [
    "words_stop = [w for w in all_participants_mix_stopwords['answer'].tolist()]\n",
    "words_stop = set(itertools.chain(*words_stop))\n",
    "vocab_size_stop = len(words_stop)"
   ]
  },
  {
   "cell_type": "code",
   "execution_count": 43,
   "metadata": {
    "scrolled": true
   },
   "outputs": [
    {
     "data": {
      "text/html": [
       "<div>\n",
       "<style scoped>\n",
       "    .dataframe tbody tr th:only-of-type {\n",
       "        vertical-align: middle;\n",
       "    }\n",
       "\n",
       "    .dataframe tbody tr th {\n",
       "        vertical-align: top;\n",
       "    }\n",
       "\n",
       "    .dataframe thead th {\n",
       "        text-align: right;\n",
       "    }\n",
       "</style>\n",
       "<table border=\"1\" class=\"dataframe\">\n",
       "  <thead>\n",
       "    <tr style=\"text-align: right;\">\n",
       "      <th></th>\n",
       "      <th>index</th>\n",
       "      <th>personId</th>\n",
       "      <th>question</th>\n",
       "      <th>answer</th>\n",
       "      <th>t_answer</th>\n",
       "    </tr>\n",
       "  </thead>\n",
       "  <tbody>\n",
       "    <tr>\n",
       "      <th>0</th>\n",
       "      <td>0</td>\n",
       "      <td>300.0</td>\n",
       "      <td>hi i'm ellie thanks for coming in today</td>\n",
       "      <td>[]</td>\n",
       "      <td>[]</td>\n",
       "    </tr>\n",
       "    <tr>\n",
       "      <th>1</th>\n",
       "      <td>1</td>\n",
       "      <td>300.0</td>\n",
       "      <td>i was created to talk to people in a safe and ...</td>\n",
       "      <td>[]</td>\n",
       "      <td>[]</td>\n",
       "    </tr>\n",
       "    <tr>\n",
       "      <th>2</th>\n",
       "      <td>2</td>\n",
       "      <td>300.0</td>\n",
       "      <td>think of me as a friend i don't judge i can't ...</td>\n",
       "      <td>[]</td>\n",
       "      <td>[]</td>\n",
       "    </tr>\n",
       "    <tr>\n",
       "      <th>3</th>\n",
       "      <td>3</td>\n",
       "      <td>300.0</td>\n",
       "      <td>i'm here to learn about people and would love ...</td>\n",
       "      <td>[]</td>\n",
       "      <td>[]</td>\n",
       "    </tr>\n",
       "    <tr>\n",
       "      <th>4</th>\n",
       "      <td>4</td>\n",
       "      <td>300.0</td>\n",
       "      <td>i'll ask a few questions to get us started and...</td>\n",
       "      <td>[]</td>\n",
       "      <td>[]</td>\n",
       "    </tr>\n",
       "  </tbody>\n",
       "</table>\n",
       "</div>"
      ],
      "text/plain": [
       "   index  personId                                           question answer  \\\n",
       "0      0     300.0            hi i'm ellie thanks for coming in today     []   \n",
       "1      1     300.0  i was created to talk to people in a safe and ...     []   \n",
       "2      2     300.0  think of me as a friend i don't judge i can't ...     []   \n",
       "3      3     300.0  i'm here to learn about people and would love ...     []   \n",
       "4      4     300.0  i'll ask a few questions to get us started and...     []   \n",
       "\n",
       "  t_answer  \n",
       "0       []  \n",
       "1       []  \n",
       "2       []  \n",
       "3       []  \n",
       "4       []  "
      ]
     },
     "execution_count": 43,
     "metadata": {},
     "output_type": "execute_result"
    }
   ],
   "source": [
    "windows_size = WINDOWS_SIZE\n",
    "tokenizer = Tokenizer(num_words=vocab_size)\n",
    "tokenizer.fit_on_texts(all_participants_mix['answer'])\n",
    "tokenizer.fit_on_sequences(all_participants_mix['answer'])\n",
    "\n",
    "all_participants_mix['t_answer'] = tokenizer.texts_to_sequences(all_participants_mix['answer'])\n",
    "all_participants_mix.head()"
   ]
  },
  {
   "cell_type": "code",
   "execution_count": 16,
   "metadata": {},
   "outputs": [
    {
     "data": {
      "text/html": [
       "<div>\n",
       "<style scoped>\n",
       "    .dataframe tbody tr th:only-of-type {\n",
       "        vertical-align: middle;\n",
       "    }\n",
       "\n",
       "    .dataframe tbody tr th {\n",
       "        vertical-align: top;\n",
       "    }\n",
       "\n",
       "    .dataframe thead th {\n",
       "        text-align: right;\n",
       "    }\n",
       "</style>\n",
       "<table border=\"1\" class=\"dataframe\">\n",
       "  <thead>\n",
       "    <tr style=\"text-align: right;\">\n",
       "      <th></th>\n",
       "      <th>index</th>\n",
       "      <th>personId</th>\n",
       "      <th>question</th>\n",
       "      <th>answer</th>\n",
       "      <th>t_answer</th>\n",
       "    </tr>\n",
       "  </thead>\n",
       "  <tbody>\n",
       "    <tr>\n",
       "      <th>0</th>\n",
       "      <td>0</td>\n",
       "      <td>300.0</td>\n",
       "      <td>hi i'm ellie thanks for coming in today</td>\n",
       "      <td>[]</td>\n",
       "      <td>[]</td>\n",
       "    </tr>\n",
       "    <tr>\n",
       "      <th>1</th>\n",
       "      <td>1</td>\n",
       "      <td>300.0</td>\n",
       "      <td>i was created to talk to people in a safe and ...</td>\n",
       "      <td>[]</td>\n",
       "      <td>[]</td>\n",
       "    </tr>\n",
       "    <tr>\n",
       "      <th>2</th>\n",
       "      <td>2</td>\n",
       "      <td>300.0</td>\n",
       "      <td>think of me as a friend i don't judge i can't ...</td>\n",
       "      <td>[]</td>\n",
       "      <td>[]</td>\n",
       "    </tr>\n",
       "    <tr>\n",
       "      <th>3</th>\n",
       "      <td>3</td>\n",
       "      <td>300.0</td>\n",
       "      <td>i'm here to learn about people and would love ...</td>\n",
       "      <td>[]</td>\n",
       "      <td>[]</td>\n",
       "    </tr>\n",
       "    <tr>\n",
       "      <th>4</th>\n",
       "      <td>4</td>\n",
       "      <td>300.0</td>\n",
       "      <td>i'll ask a few questions to get us started and...</td>\n",
       "      <td>[]</td>\n",
       "      <td>[]</td>\n",
       "    </tr>\n",
       "  </tbody>\n",
       "</table>\n",
       "</div>"
      ],
      "text/plain": [
       "   index  personId                                           question answer  \\\n",
       "0      0     300.0            hi i'm ellie thanks for coming in today     []   \n",
       "1      1     300.0  i was created to talk to people in a safe and ...     []   \n",
       "2      2     300.0  think of me as a friend i don't judge i can't ...     []   \n",
       "3      3     300.0  i'm here to learn about people and would love ...     []   \n",
       "4      4     300.0  i'll ask a few questions to get us started and...     []   \n",
       "\n",
       "  t_answer  \n",
       "0       []  \n",
       "1       []  \n",
       "2       []  \n",
       "3       []  \n",
       "4       []  "
      ]
     },
     "execution_count": 16,
     "metadata": {},
     "output_type": "execute_result"
    }
   ],
   "source": [
    "windows_size = WINDOWS_SIZE\n",
    "tokenizer = Tokenizer(num_words=vocab_size_stop)\n",
    "tokenizer.fit_on_texts(all_participants_mix_stopwords['answer'])\n",
    "tokenizer.fit_on_sequences(all_participants_mix_stopwords['answer'])\n",
    "\n",
    "all_participants_mix_stopwords['t_answer'] = tokenizer.texts_to_sequences(all_participants_mix_stopwords['answer'])\n",
    "all_participants_mix_stopwords.head()"
   ]
  },
  {
   "cell_type": "code",
   "execution_count": 44,
   "metadata": {},
   "outputs": [
    {
     "name": "stdout",
     "output_type": "stream",
     "text": [
      "69\n"
     ]
    }
   ],
   "source": [
    "word_index = tokenizer.word_index\n",
    "word_size = len(word_index)\n",
    "print(word_index[\"happy\"])"
   ]
  },
  {
   "cell_type": "code",
   "execution_count": 86,
   "metadata": {},
   "outputs": [],
   "source": [
    "windows_size = WINDOWS_SIZE\n",
    "cont = 0\n",
    "word_index = tokenizer\n",
    "phrases_lp_stop = pd.DataFrame(columns=['personId','answer', 't_answer'])\n",
    "answers = all_participants_mix_stopwords.groupby('personId').agg('sum', axis=1)\n",
    "\n",
    "for p in answers.iterrows():      \n",
    "    words = p[1][\"answer\"]\n",
    "    size = len(words)\n",
    "    word_tokens = p[1][\"t_answer\"]\n",
    " \n",
    "    for i in range(size):\n",
    "        sentence = words[i:min(i+windows_size,size)]  \n",
    "        tokens = word_tokens[i:min(i+windows_size,size)]  \n",
    "        phrases_lp_stop.loc[cont] = [p[0], sentence, tokens]\n",
    "        cont = cont + 1"
   ]
  },
  {
   "cell_type": "code",
   "execution_count": 45,
   "metadata": {},
   "outputs": [],
   "source": [
    "windows_size = WINDOWS_SIZE\n",
    "cont = 0\n",
    "word_index = tokenizer\n",
    "phrases_lp = pd.DataFrame(columns=['personId','answer', 't_answer'])\n",
    "answers = all_participants_mix.groupby('personId').agg('sum', axis=1)\n",
    "\n",
    "for p in answers.iterrows():      \n",
    "    words = p[1][\"answer\"]\n",
    "    size = len(words)\n",
    "    word_tokens = p[1][\"t_answer\"]\n",
    " \n",
    "    for i in range(size):\n",
    "        sentence = words[i:min(i+windows_size,size)]  \n",
    "        tokens = word_tokens[i:min(i+windows_size,size)]  \n",
    "        phrases_lp.loc[cont] = [p[0], sentence, tokens]\n",
    "        cont = cont + 1"
   ]
  },
  {
   "cell_type": "code",
   "execution_count": 58,
   "metadata": {},
   "outputs": [
    {
     "name": "stdout",
     "output_type": "stream",
     "text": [
      "File was created\n"
     ]
    }
   ],
   "source": [
    "phrases_lp.head()\n",
    "phrases_lp.to_csv(data_path + 'phrases_lp.csv', sep='\\t')\n",
    "print(\"File was created\")"
   ]
  },
  {
   "cell_type": "code",
   "execution_count": 89,
   "metadata": {},
   "outputs": [
    {
     "data": {
      "text/html": [
       "<div>\n",
       "<style scoped>\n",
       "    .dataframe tbody tr th:only-of-type {\n",
       "        vertical-align: middle;\n",
       "    }\n",
       "\n",
       "    .dataframe tbody tr th {\n",
       "        vertical-align: top;\n",
       "    }\n",
       "\n",
       "    .dataframe thead th {\n",
       "        text-align: right;\n",
       "    }\n",
       "</style>\n",
       "<table border=\"1\" class=\"dataframe\">\n",
       "  <thead>\n",
       "    <tr style=\"text-align: right;\">\n",
       "      <th></th>\n",
       "      <th>personId</th>\n",
       "      <th>answer</th>\n",
       "      <th>t_answer</th>\n",
       "    </tr>\n",
       "  </thead>\n",
       "  <tbody>\n",
       "    <tr>\n",
       "      <th>0</th>\n",
       "      <td>300.0</td>\n",
       "      <td>[good, atlanta, georgia, um, my, parent, are, ...</td>\n",
       "      <td>[42, 1727, 2089, 5, 12, 205, 37, 69, 113, 5]</td>\n",
       "    </tr>\n",
       "    <tr>\n",
       "      <th>1</th>\n",
       "      <td>300.0</td>\n",
       "      <td>[atlanta, georgia, um, my, parent, are, from, ...</td>\n",
       "      <td>[1727, 2089, 5, 12, 205, 37, 69, 113, 5, 1]</td>\n",
       "    </tr>\n",
       "    <tr>\n",
       "      <th>2</th>\n",
       "      <td>300.0</td>\n",
       "      <td>[georgia, um, my, parent, are, from, here, um,...</td>\n",
       "      <td>[2089, 5, 12, 205, 37, 69, 113, 5, 1, 119]</td>\n",
       "    </tr>\n",
       "    <tr>\n",
       "      <th>3</th>\n",
       "      <td>300.0</td>\n",
       "      <td>[um, my, parent, are, from, here, um, i, love,...</td>\n",
       "      <td>[5, 12, 205, 37, 69, 113, 5, 1, 119, 6]</td>\n",
       "    </tr>\n",
       "    <tr>\n",
       "      <th>4</th>\n",
       "      <td>300.0</td>\n",
       "      <td>[my, parent, are, from, here, um, i, love, it, i]</td>\n",
       "      <td>[12, 205, 37, 69, 113, 5, 1, 119, 6, 1]</td>\n",
       "    </tr>\n",
       "  </tbody>\n",
       "</table>\n",
       "</div>"
      ],
      "text/plain": [
       "   personId                                             answer  \\\n",
       "0     300.0  [good, atlanta, georgia, um, my, parent, are, ...   \n",
       "1     300.0  [atlanta, georgia, um, my, parent, are, from, ...   \n",
       "2     300.0  [georgia, um, my, parent, are, from, here, um,...   \n",
       "3     300.0  [um, my, parent, are, from, here, um, i, love,...   \n",
       "4     300.0  [my, parent, are, from, here, um, i, love, it, i]   \n",
       "\n",
       "                                       t_answer  \n",
       "0  [42, 1727, 2089, 5, 12, 205, 37, 69, 113, 5]  \n",
       "1   [1727, 2089, 5, 12, 205, 37, 69, 113, 5, 1]  \n",
       "2    [2089, 5, 12, 205, 37, 69, 113, 5, 1, 119]  \n",
       "3       [5, 12, 205, 37, 69, 113, 5, 1, 119, 6]  \n",
       "4       [12, 205, 37, 69, 113, 5, 1, 119, 6, 1]  "
      ]
     },
     "execution_count": 89,
     "metadata": {},
     "output_type": "execute_result"
    }
   ],
   "source": [
    "phrases_lp[\"t_answer\"] = pad_sequences(phrases_lp[\"t_answer\"], value=0, padding=\"post\", maxlen=windows_size).tolist()\n",
    "phrases_lp.head()"
   ]
  },
  {
   "cell_type": "code",
   "execution_count": 90,
   "metadata": {},
   "outputs": [
    {
     "name": "stdout",
     "output_type": "stream",
     "text": [
      "File was created\n"
     ]
    }
   ],
   "source": [
    "phrases_lp_stop.to_csv(data_path + 'phrases_lp_stop.csv', sep='\\t')\n",
    "print(\"File was created\")"
   ]
  },
  {
   "cell_type": "code",
   "execution_count": 18,
   "metadata": {},
   "outputs": [
    {
     "data": {
      "text/html": [
       "<div>\n",
       "<style scoped>\n",
       "    .dataframe tbody tr th:only-of-type {\n",
       "        vertical-align: middle;\n",
       "    }\n",
       "\n",
       "    .dataframe tbody tr th {\n",
       "        vertical-align: top;\n",
       "    }\n",
       "\n",
       "    .dataframe thead th {\n",
       "        text-align: right;\n",
       "    }\n",
       "</style>\n",
       "<table border=\"1\" class=\"dataframe\">\n",
       "  <thead>\n",
       "    <tr style=\"text-align: right;\">\n",
       "      <th></th>\n",
       "      <th>Unnamed: 0</th>\n",
       "      <th>personId</th>\n",
       "      <th>answer</th>\n",
       "      <th>t_answer</th>\n",
       "    </tr>\n",
       "  </thead>\n",
       "  <tbody>\n",
       "    <tr>\n",
       "      <th>0</th>\n",
       "      <td>0</td>\n",
       "      <td>300.0</td>\n",
       "      <td>['good', 'atlanta', 'georgia', 'um', 'parent',...</td>\n",
       "      <td>[16, 1634, 1997, 1, 131, 1, 63, 5, 142, 5]</td>\n",
       "    </tr>\n",
       "    <tr>\n",
       "      <th>1</th>\n",
       "      <td>1</td>\n",
       "      <td>300.0</td>\n",
       "      <td>['atlanta', 'georgia', 'um', 'parent', 'um', '...</td>\n",
       "      <td>[1634, 1997, 1, 131, 1, 63, 5, 142, 5, 334]</td>\n",
       "    </tr>\n",
       "    <tr>\n",
       "      <th>2</th>\n",
       "      <td>2</td>\n",
       "      <td>300.0</td>\n",
       "      <td>['georgia', 'um', 'parent', 'um', 'love', 'lik...</td>\n",
       "      <td>[1997, 1, 131, 1, 63, 5, 142, 5, 334, 1]</td>\n",
       "    </tr>\n",
       "    <tr>\n",
       "      <th>3</th>\n",
       "      <td>3</td>\n",
       "      <td>300.0</td>\n",
       "      <td>['um', 'parent', 'um', 'love', 'like', 'weathe...</td>\n",
       "      <td>[1, 131, 1, 63, 5, 142, 5, 334, 1, 39]</td>\n",
       "    </tr>\n",
       "    <tr>\n",
       "      <th>4</th>\n",
       "      <td>4</td>\n",
       "      <td>300.0</td>\n",
       "      <td>['parent', 'um', 'love', 'like', 'weather', 'l...</td>\n",
       "      <td>[131, 1, 63, 5, 142, 5, 334, 1, 39, 1]</td>\n",
       "    </tr>\n",
       "  </tbody>\n",
       "</table>\n",
       "</div>"
      ],
      "text/plain": [
       "   Unnamed: 0  personId                                             answer  \\\n",
       "0           0     300.0  ['good', 'atlanta', 'georgia', 'um', 'parent',...   \n",
       "1           1     300.0  ['atlanta', 'georgia', 'um', 'parent', 'um', '...   \n",
       "2           2     300.0  ['georgia', 'um', 'parent', 'um', 'love', 'lik...   \n",
       "3           3     300.0  ['um', 'parent', 'um', 'love', 'like', 'weathe...   \n",
       "4           4     300.0  ['parent', 'um', 'love', 'like', 'weather', 'l...   \n",
       "\n",
       "                                      t_answer  \n",
       "0   [16, 1634, 1997, 1, 131, 1, 63, 5, 142, 5]  \n",
       "1  [1634, 1997, 1, 131, 1, 63, 5, 142, 5, 334]  \n",
       "2     [1997, 1, 131, 1, 63, 5, 142, 5, 334, 1]  \n",
       "3       [1, 131, 1, 63, 5, 142, 5, 334, 1, 39]  \n",
       "4       [131, 1, 63, 5, 142, 5, 334, 1, 39, 1]  "
      ]
     },
     "execution_count": 18,
     "metadata": {},
     "output_type": "execute_result"
    }
   ],
   "source": [
    "phrases_lp = pd.read_csv(data_path + 'phrases_lp.csv', sep='\\t', converters={\"t_answer\": literal_eval}) \n",
    "phrases_lp.head()"
   ]
  },
  {
   "cell_type": "code",
   "execution_count": 19,
   "metadata": {},
   "outputs": [],
   "source": [
    "def load_avec_dataset_file(path, score_column):\n",
    "    ds = pd.read_csv(path, sep=',')\n",
    "    ds['level'] = pd.cut(ds[score_column], bins=[-1,0,5,10,15,25], labels=[0,1,2,3,4])\n",
    "    ds['PHQ8_Score'] = ds[score_column]\n",
    "    ds['cat_level'] = keras.utils.to_categorical(ds['level'], num_classes).tolist()\n",
    "    ds = ds[['Participant_ID', 'level', 'cat_level', 'PHQ8_Score']]\n",
    "    ds = ds.astype({\"Participant_ID\": float, \"level\": int, 'PHQ8_Score': int})\n",
    "    return ds"
   ]
  },
  {
   "cell_type": "code",
   "execution_count": 20,
   "metadata": {},
   "outputs": [
    {
     "name": "stdout",
     "output_type": "stream",
     "text": [
      "Size: train= 107, dev= 35, test= 47\n"
     ]
    },
    {
     "data": {
      "text/html": [
       "<div>\n",
       "<style scoped>\n",
       "    .dataframe tbody tr th:only-of-type {\n",
       "        vertical-align: middle;\n",
       "    }\n",
       "\n",
       "    .dataframe tbody tr th {\n",
       "        vertical-align: top;\n",
       "    }\n",
       "\n",
       "    .dataframe thead th {\n",
       "        text-align: right;\n",
       "    }\n",
       "</style>\n",
       "<table border=\"1\" class=\"dataframe\">\n",
       "  <thead>\n",
       "    <tr style=\"text-align: right;\">\n",
       "      <th></th>\n",
       "      <th>Participant_ID</th>\n",
       "      <th>level</th>\n",
       "      <th>cat_level</th>\n",
       "      <th>PHQ8_Score</th>\n",
       "    </tr>\n",
       "  </thead>\n",
       "  <tbody>\n",
       "    <tr>\n",
       "      <th>0</th>\n",
       "      <td>303.0</td>\n",
       "      <td>0</td>\n",
       "      <td>[1.0, 0.0, 0.0, 0.0, 0.0]</td>\n",
       "      <td>0</td>\n",
       "    </tr>\n",
       "    <tr>\n",
       "      <th>1</th>\n",
       "      <td>304.0</td>\n",
       "      <td>2</td>\n",
       "      <td>[0.0, 0.0, 1.0, 0.0, 0.0]</td>\n",
       "      <td>6</td>\n",
       "    </tr>\n",
       "    <tr>\n",
       "      <th>2</th>\n",
       "      <td>305.0</td>\n",
       "      <td>2</td>\n",
       "      <td>[0.0, 0.0, 1.0, 0.0, 0.0]</td>\n",
       "      <td>7</td>\n",
       "    </tr>\n",
       "    <tr>\n",
       "      <th>3</th>\n",
       "      <td>310.0</td>\n",
       "      <td>1</td>\n",
       "      <td>[0.0, 1.0, 0.0, 0.0, 0.0]</td>\n",
       "      <td>4</td>\n",
       "    </tr>\n",
       "    <tr>\n",
       "      <th>4</th>\n",
       "      <td>312.0</td>\n",
       "      <td>1</td>\n",
       "      <td>[0.0, 1.0, 0.0, 0.0, 0.0]</td>\n",
       "      <td>2</td>\n",
       "    </tr>\n",
       "  </tbody>\n",
       "</table>\n",
       "</div>"
      ],
      "text/plain": [
       "   Participant_ID  level                  cat_level  PHQ8_Score\n",
       "0           303.0      0  [1.0, 0.0, 0.0, 0.0, 0.0]           0\n",
       "1           304.0      2  [0.0, 0.0, 1.0, 0.0, 0.0]           6\n",
       "2           305.0      2  [0.0, 0.0, 1.0, 0.0, 0.0]           7\n",
       "3           310.0      1  [0.0, 1.0, 0.0, 0.0, 0.0]           4\n",
       "4           312.0      1  [0.0, 1.0, 0.0, 0.0, 0.0]           2"
      ]
     },
     "execution_count": 20,
     "metadata": {},
     "output_type": "execute_result"
    }
   ],
   "source": [
    "train = load_avec_dataset_file('data/train_split_Depression_AVEC2017.csv', 'PHQ8_Score')\n",
    "dev = load_avec_dataset_file('data/dev_split_Depression_AVEC2017.csv', 'PHQ8_Score')\n",
    "test = load_avec_dataset_file('data/full_test_split.csv', 'PHQ8_Score')\n",
    "print(\"Size: train= {}, dev= {}, test= {}\".format(len(train), len(dev), len(test)))\n",
    "train.head()"
   ]
  },
  {
   "cell_type": "code",
   "execution_count": 21,
   "metadata": {},
   "outputs": [
    {
     "name": "stdout",
     "output_type": "stream",
     "text": [
      "Total size = 189\n"
     ]
    }
   ],
   "source": [
    "ds_total = pd.concat([train,dev,test])\n",
    "total_phq8 = len(ds_total)\n",
    "print(\"Total size = {}\".format(total_phq8))"
   ]
  },
  {
   "cell_type": "code",
   "execution_count": 87,
   "metadata": {},
   "outputs": [
    {
     "name": "stdout",
     "output_type": "stream",
     "text": [
      "File was created\n"
     ]
    }
   ],
   "source": [
    "ds_total.to_csv(data_path + 'ds_total.csv', sep='\\t')\n",
    "print(\"File was created\")"
   ]
  },
  {
   "cell_type": "code",
   "execution_count": 104,
   "metadata": {},
   "outputs": [
    {
     "data": {
      "image/png": "[encoded data removed]",
      "text/plain": [
       "<Figure size 432x288 with 1 Axes>"
      ]
     },
     "metadata": {
      "needs_background": "light"
     },
     "output_type": "display_data"
    },
    {
     "data": {
      "text/plain": [
       "<Figure size 432x288 with 0 Axes>"
      ]
     },
     "metadata": {},
     "output_type": "display_data"
    }
   ],
   "source": [
    "bins=[-1,0,5,10,15,25]\n",
    "plt.figure()\n",
    "plt.hist(ds_total[\"PHQ8_Score\"], rwidth=0.6, bins=5)\n",
    "plt.xlabel('PHQ8 score')\n",
    "plt.ylabel('Number of participants')\n",
    "plt.show()\n",
    "plt.savefig('figures/bins.png')"
   ]
  },
  {
   "cell_type": "code",
   "execution_count": 26,
   "metadata": {},
   "outputs": [],
   "source": [
    "def split_by_phq_level(ds):\n",
    "    none_ds = ds[ds['level']==0]\n",
    "    mild_ds = ds[ds['level']==1]\n",
    "    moderate_ds = ds[ds['level']==2]\n",
    "    moderate_severe_ds = ds[ds['level']==3]\n",
    "    severe_ds = ds[ds['level']==4]\n",
    "    return (none_ds, mild_ds, moderate_ds, moderate_severe_ds, severe_ds)"
   ]
  },
  {
   "cell_type": "code",
   "execution_count": 27,
   "metadata": {},
   "outputs": [
    {
     "name": "stdout",
     "output_type": "stream",
     "text": [
      "Quantity per none_ds: 26, mild_ds: 70, moderate_ds 47, moderate_severe_ds: 24, severe_ds 22\n"
     ]
    }
   ],
   "source": [
    "none_ds, mild_ds, moderate_ds, moderate_severe_ds, severe_ds = split_by_phq_level(ds_total)\n",
    "print(\"Quantity per none_ds: {}, mild_ds: {}, moderate_ds {}, moderate_severe_ds: {}, severe_ds {}\".format(len(none_ds), len(mild_ds), len(moderate_ds), len(moderate_severe_ds), len(severe_ds)))"
   ]
  },
  {
   "cell_type": "code",
   "execution_count": 28,
   "metadata": {},
   "outputs": [],
   "source": [
    "b_none_ds = ds_total[ds_total['level']==0]\n",
    "b_mild_ds = ds_total[ds_total['level']==1].sample(26)\n",
    "b_moderate_ds = ds_total[ds_total['level']==2].sample(26)\n",
    "b_moderate_severe_ds = ds_total[ds_total['level']==3]\n",
    "b_severe_ds = ds_total[ds_total['level']==4]\n",
    "\n",
    "ds_total_b = pd.concat([b_none_ds, b_mild_ds, b_moderate_ds, b_moderate_severe_ds, b_severe_ds])"
   ]
  },
  {
   "cell_type": "code",
   "execution_count": 29,
   "metadata": {},
   "outputs": [],
   "source": [
    "ds_lp = pd.merge(ds_total, phrases_lp,left_on='Participant_ID', right_on='personId')\n",
    "ds_lp_b = pd.merge(ds_total_b, phrases_lp,left_on='Participant_ID', right_on='personId')"
   ]
  },
  {
   "cell_type": "code",
   "execution_count": 30,
   "metadata": {},
   "outputs": [],
   "source": [
    "def distribute_instances(ds, split_in = [70,14,16]):\n",
    "    ds_shuffled = ds.sample(frac=1)\n",
    "    none_ds, mild_ds, moderate_ds, moderate_severe_ds, severe_ds = split_by_phq_level(ds_shuffled)\n",
    "    eq_ds = dict()\n",
    "    prev_none = prev_mild = prev_moderate = prev_moderate_severe = prev_severe = 0\n",
    "    split = split_in\n",
    "    for p in split:\n",
    "        last_none = min(len(none_ds), prev_none + round(len(none_ds) * p/100))\n",
    "        last_mild = min(len(mild_ds), prev_mild + round(len(mild_ds) * p/100))\n",
    "        last_moderate = min(len(moderate_ds), prev_moderate + round(len(moderate_ds) * p/100))\n",
    "        last_moderate_severe = min(len(moderate_severe_ds), prev_moderate_severe + round(len(moderate_severe_ds) * p/100))\n",
    "        last_severe = min(len(severe_ds), prev_severe + round(len(severe_ds) * p/100))  \n",
    "        eq_ds['d'+str(p)] = pd.concat([none_ds[prev_none: last_none], mild_ds[prev_mild: last_mild], moderate_ds[prev_moderate: last_moderate], moderate_severe_ds[prev_moderate_severe: last_moderate_severe], severe_ds[prev_severe: last_severe]])\n",
    "        prev_none = last_none\n",
    "        prev_mild = last_mild\n",
    "        prev_moderate = last_moderate\n",
    "        prev_moderate_severe = last_moderate_severe\n",
    "        prev_severe = last_severe  \n",
    "    return (eq_ds['d70'], eq_ds['d14'], eq_ds['d16'])\n"
   ]
  },
  {
   "cell_type": "code",
   "execution_count": 31,
   "metadata": {},
   "outputs": [],
   "source": [
    "train_lp, dev_lp, test_lp = distribute_instances(ds_lp)\n",
    "train_lp_b, dev_lp_b, test_lp_b = distribute_instances(ds_lp_b)"
   ]
  },
  {
   "cell_type": "code",
   "execution_count": 85,
   "metadata": {},
   "outputs": [],
   "source": [
    "def test_model(text, model):\n",
    "    print(text)\n",
    "    word_list = text_to_wordlist(text)\n",
    "    sequences = tokenizer.texts_to_sequences([word_list])\n",
    "    sequences_input = list(itertools.chain(*sequences))\n",
    "    sequences_input =  pad_sequences([sequences_input], value=0, padding=\"post\", maxlen=windows_size).tolist()\n",
    "    input_a = np.asarray(sequences_input)\n",
    "    pred = model.predict(input_a, batch_size=None, verbose=0, steps=None)\n",
    "    predicted_class = np.argmax(pred)\n",
    "    print(labels[predicted_class])"
   ]
  },
  {
   "cell_type": "code",
   "execution_count": 33,
   "metadata": {},
   "outputs": [],
   "source": [
    "def confusion_matrix(model, x, y):\n",
    "    prediction = model.predict(x, batch_size=None, verbose=0, steps=None)\n",
    "    labels=['none','mild','moderate','moderately severe', 'severe']\n",
    "\n",
    "    max_prediction = np.argmax(prediction, axis=1)\n",
    "    max_actual = np.argmax(y, axis=1)\n",
    "\n",
    "    y_pred = pd.Categorical.from_codes(max_prediction, labels)\n",
    "    y_actu = pd.Categorical.from_codes(max_actual, labels)\n",
    "\n",
    "    return pd.crosstab(y_actu, y_pred)"
   ]
  },
  {
   "cell_type": "code",
   "execution_count": 34,
   "metadata": {},
   "outputs": [],
   "source": [
    "embeddings_index = dict()\n",
    "f = open('word2vec/glove.6B.100d.txt', encoding=\"utf8\")\n",
    "for line in f:\n",
    "    values = line.split()\n",
    "    word = values[0]\n",
    "    coefs = np.asarray(values[1:], dtype='float32')\n",
    "    embeddings_index[word] = coefs\n",
    "f.close()"
   ]
  },
  {
   "cell_type": "code",
   "execution_count": 35,
   "metadata": {},
   "outputs": [],
   "source": [
    "def fill_embedding_matrix(tokenizer):\n",
    "    vocab_size = len(tokenizer.word_index)\n",
    "    embedding_matrix = np.zeros((vocab_size+1, 100))\n",
    "    for word, i in tokenizer.word_index.items():\n",
    "        embedding_vector = embeddings_index.get(word)\n",
    "        if embedding_vector is not None:        \n",
    "            embedding_matrix[i] = embedding_vector\n",
    "    return embedding_matrix"
   ]
  },
  {
   "cell_type": "code",
   "execution_count": 36,
   "metadata": {},
   "outputs": [],
   "source": [
    "embedding_matrix_lp = fill_embedding_matrix(tokenizer)"
   ]
  },
  {
   "cell_type": "code",
   "execution_count": 37,
   "metadata": {},
   "outputs": [],
   "source": [
    "train_a = np.stack(train_lp['t_answer'], axis=0)\n",
    "dev_a = np.stack(dev_lp['t_answer'], axis=0)\n",
    "train_y = np.stack(train_lp['cat_level'], axis=0)\n",
    "dev_y = np.stack(dev_lp['cat_level'], axis=0)"
   ]
  },
  {
   "cell_type": "code",
   "execution_count": 38,
   "metadata": {},
   "outputs": [],
   "source": [
    "train_a_b = np.stack(train_lp_b['t_answer'], axis=0)\n",
    "dev_a_b = np.stack(dev_lp_b['t_answer'], axis=0)\n",
    "train_y_b = np.stack(train_lp_b['cat_level'], axis=0)\n",
    "dev_y_b = np.stack(dev_lp_b['cat_level'], axis=0)"
   ]
  },
  {
   "cell_type": "code",
   "execution_count": null,
   "metadata": {},
   "outputs": [],
   "source": [
    "early_stopping = EarlyStopping(monitor='val_loss', patience=3)"
   ]
  },
  {
   "cell_type": "code",
   "execution_count": 41,
   "metadata": {},
   "outputs": [
    {
     "name": "stdout",
     "output_type": "stream",
     "text": [
      "_________________________________________________________________\n",
      "Layer (type)                 Output Shape              Param #   \n",
      "=================================================================\n",
      "input_1 (InputLayer)         (None, 10)                0         \n",
      "_________________________________________________________________\n",
      "embedding_1 (Embedding)      (None, 10, 100)           745000    \n",
      "_________________________________________________________________\n",
      "batch_normalization_1 (Batch (None, 10, 100)           400       \n",
      "_________________________________________________________________\n",
      "lstm_1 (LSTM)                (None, 10, 100)           80400     \n",
      "_________________________________________________________________\n",
      "dense_1 (Dense)              (None, 10, 256)           25856     \n",
      "_________________________________________________________________\n",
      "dense_2 (Dense)              (None, 10, 256)           65792     \n",
      "_________________________________________________________________\n",
      "flatten_1 (Flatten)          (None, 2560)              0         \n",
      "_________________________________________________________________\n",
      "dense_3 (Dense)              (None, 5)                 12805     \n",
      "=================================================================\n",
      "Total params: 930,253\n",
      "Trainable params: 185,053\n",
      "Non-trainable params: 745,200\n",
      "_________________________________________________________________\n"
     ]
    }
   ],
   "source": [
    "answer_inp = Input(shape=(windows_size, ))\n",
    "embedding_size_glove = 100\n",
    "answer_emb1 = Embedding(vocab_size_stop+1, embedding_size_glove, weights=[embedding_matrix_lp], input_length=windows_size, trainable=False)(answer_inp)\n",
    "\n",
    "bt = BatchNormalization()(answer_emb1)\n",
    "lstm = LSTM(embedding_size_glove, return_sequences=True, dropout=0.2, recurrent_dropout=0.2)(bt)\n",
    "\n",
    "dense1 = Dense(units=256, activation=\"relu\")(lstm)\n",
    "dense2 = Dense(units=256, activation=\"relu\")(dense1)\n",
    "\n",
    "flatten = Flatten()(dense2)\n",
    "\n",
    "out = Dense(5,  activation='softmax')(flatten)\n",
    "\n",
    "model = Model(inputs=[answer_inp], outputs=[out])\n",
    "model.compile(optimizer=\"adam\", loss='categorical_crossentropy', metrics=['accuracy'])\n",
    "model.summary()"
   ]
  },
  {
   "cell_type": "code",
   "execution_count": 42,
   "metadata": {},
   "outputs": [
    {
     "name": "stdout",
     "output_type": "stream",
     "text": [
      "Train on 99969 samples, validate on 19993 samples\n",
      "Epoch 1/30\n",
      "99969/99969 [==============================] - 29s 288us/step - loss: 1.4552 - acc: 0.3693 - val_loss: 1.3352 - val_acc: 0.4354\n",
      "Epoch 2/30\n",
      "99969/99969 [==============================] - 29s 290us/step - loss: 1.2720 - acc: 0.4715 - val_loss: 1.1082 - val_acc: 0.5519\n",
      "Epoch 3/30\n",
      "99969/99969 [==============================] - 29s 291us/step - loss: 1.1071 - acc: 0.5497 - val_loss: 0.9320 - val_acc: 0.6294\n",
      "Epoch 4/30\n",
      "99969/99969 [==============================] - 31s 308us/step - loss: 0.9967 - acc: 0.5998 - val_loss: 0.8114 - val_acc: 0.6876\n",
      "Epoch 5/30\n",
      "99969/99969 [==============================] - 31s 313us/step - loss: 0.9135 - acc: 0.6416 - val_loss: 0.6972 - val_acc: 0.7393\n",
      "Epoch 6/30\n",
      "99969/99969 [==============================] - 31s 306us/step - loss: 0.8512 - acc: 0.6674 - val_loss: 0.6390 - val_acc: 0.7669\n",
      "Epoch 7/30\n",
      "99969/99969 [==============================] - 30s 297us/step - loss: 0.7997 - acc: 0.6886 - val_loss: 0.5728 - val_acc: 0.7945\n",
      "Epoch 8/30\n",
      "99969/99969 [==============================] - 30s 301us/step - loss: 0.7600 - acc: 0.7053 - val_loss: 0.5247 - val_acc: 0.8134\n",
      "Epoch 9/30\n",
      "99969/99969 [==============================] - 31s 305us/step - loss: 0.7244 - acc: 0.7199 - val_loss: 0.4960 - val_acc: 0.8269\n",
      "Epoch 10/30\n",
      "99969/99969 [==============================] - 31s 308us/step - loss: 0.6914 - acc: 0.7341 - val_loss: 0.4897 - val_acc: 0.8277\n",
      "Epoch 11/30\n",
      "99969/99969 [==============================] - 32s 323us/step - loss: 0.6622 - acc: 0.7468 - val_loss: 0.4131 - val_acc: 0.8556\n",
      "Epoch 12/30\n",
      "99969/99969 [==============================] - 31s 313us/step - loss: 0.6359 - acc: 0.7591 - val_loss: 0.4083 - val_acc: 0.8586\n",
      "Epoch 13/30\n",
      "99969/99969 [==============================] - 34s 338us/step - loss: 0.6177 - acc: 0.7662 - val_loss: 0.3844 - val_acc: 0.8676\n",
      "Epoch 14/30\n",
      "99969/99969 [==============================] - 31s 314us/step - loss: 0.5866 - acc: 0.7783 - val_loss: 0.3549 - val_acc: 0.8760\n",
      "Epoch 15/30\n",
      "99969/99969 [==============================] - 32s 318us/step - loss: 0.5683 - acc: 0.7864 - val_loss: 0.3268 - val_acc: 0.8891\n",
      "Epoch 16/30\n",
      "99969/99969 [==============================] - 32s 319us/step - loss: 0.5503 - acc: 0.7926 - val_loss: 0.3324 - val_acc: 0.8797\n",
      "Epoch 17/30\n",
      "99969/99969 [==============================] - 32s 319us/step - loss: 0.5384 - acc: 0.7988 - val_loss: 0.2906 - val_acc: 0.8990\n",
      "Epoch 18/30\n",
      "99969/99969 [==============================] - 31s 314us/step - loss: 0.5152 - acc: 0.8065 - val_loss: 0.2759 - val_acc: 0.9102\n",
      "Epoch 19/30\n",
      "99969/99969 [==============================] - 32s 318us/step - loss: 0.5028 - acc: 0.8110 - val_loss: 0.2602 - val_acc: 0.9116\n",
      "Epoch 20/30\n",
      "99969/99969 [==============================] - 32s 321us/step - loss: 0.4886 - acc: 0.8174 - val_loss: 0.2521 - val_acc: 0.9186\n",
      "Epoch 21/30\n",
      "99969/99969 [==============================] - 33s 329us/step - loss: 0.4802 - acc: 0.8211 - val_loss: 0.2348 - val_acc: 0.9234\n",
      "Epoch 22/30\n",
      "99969/99969 [==============================] - 31s 313us/step - loss: 0.4565 - acc: 0.8288 - val_loss: 0.2335 - val_acc: 0.9245\n",
      "Epoch 23/30\n",
      "99969/99969 [==============================] - 31s 312us/step - loss: 0.4527 - acc: 0.8318 - val_loss: 0.2207 - val_acc: 0.9269\n",
      "Epoch 24/30\n",
      "99969/99969 [==============================] - 31s 315us/step - loss: 0.4425 - acc: 0.8359 - val_loss: 0.2147 - val_acc: 0.9302\n",
      "Epoch 25/30\n",
      "99969/99969 [==============================] - 32s 316us/step - loss: 0.4293 - acc: 0.8406 - val_loss: 0.2009 - val_acc: 0.9362\n",
      "Epoch 26/30\n",
      "99969/99969 [==============================] - 32s 323us/step - loss: 0.4218 - acc: 0.8447 - val_loss: 0.1913 - val_acc: 0.9365\n",
      "Epoch 27/30\n",
      "99969/99969 [==============================] - 32s 319us/step - loss: 0.4054 - acc: 0.8500 - val_loss: 0.1855 - val_acc: 0.9390\n",
      "Epoch 28/30\n",
      "99969/99969 [==============================] - 32s 320us/step - loss: 0.4016 - acc: 0.8508 - val_loss: 0.1763 - val_acc: 0.9401\n",
      "Epoch 29/30\n",
      "99969/99969 [==============================] - 35s 347us/step - loss: 0.3956 - acc: 0.8548 - val_loss: 0.1775 - val_acc: 0.9421\n",
      "Epoch 30/30\n",
      "99969/99969 [==============================] - 33s 329us/step - loss: 0.3859 - acc: 0.8584 - val_loss: 0.1649 - val_acc: 0.9489\n"
     ]
    }
   ],
   "source": [
    "model_glove_lstm_hist = model.fit(train_a, train_y, validation_data=(dev_a, dev_y), epochs=30, batch_size=64, shuffle=True, callbacks=[early_stopping])"
   ]
  },
  {
   "cell_type": "code",
   "execution_count": 46,
   "metadata": {},
   "outputs": [
    {
     "name": "stdout",
     "output_type": "stream",
     "text": [
      "Train on 65256 samples, validate on 13051 samples\n",
      "Epoch 1/30\n",
      "65256/65256 [==============================] - 21s 316us/step - loss: 0.3983 - acc: 0.8562 - val_loss: 0.0901 - val_acc: 0.9777\n",
      "Epoch 2/30\n",
      "65256/65256 [==============================] - 20s 306us/step - loss: 0.3427 - acc: 0.8753 - val_loss: 0.0699 - val_acc: 0.9816\n",
      "Epoch 3/30\n",
      "65256/65256 [==============================] - 21s 326us/step - loss: 0.3213 - acc: 0.8825 - val_loss: 0.0714 - val_acc: 0.9795\n",
      "Epoch 4/30\n",
      "65256/65256 [==============================] - 21s 324us/step - loss: 0.3030 - acc: 0.8903 - val_loss: 0.0662 - val_acc: 0.9819\n",
      "Epoch 5/30\n",
      "65256/65256 [==============================] - 22s 333us/step - loss: 0.2823 - acc: 0.8994 - val_loss: 0.0629 - val_acc: 0.9820\n",
      "Epoch 6/30\n",
      "65256/65256 [==============================] - 22s 330us/step - loss: 0.2791 - acc: 0.8999 - val_loss: 0.0642 - val_acc: 0.9822\n",
      "Epoch 7/30\n",
      "65256/65256 [==============================] - 22s 334us/step - loss: 0.2642 - acc: 0.9056 - val_loss: 0.0607 - val_acc: 0.9821\n",
      "Epoch 8/30\n",
      "65256/65256 [==============================] - 21s 326us/step - loss: 0.2625 - acc: 0.9051 - val_loss: 0.0569 - val_acc: 0.9837\n",
      "Epoch 9/30\n",
      "65256/65256 [==============================] - 22s 340us/step - loss: 0.2451 - acc: 0.9119 - val_loss: 0.0515 - val_acc: 0.9864\n",
      "Epoch 10/30\n",
      "65256/65256 [==============================] - 22s 342us/step - loss: 0.2429 - acc: 0.9118 - val_loss: 0.0529 - val_acc: 0.9849\n",
      "Epoch 11/30\n",
      "65256/65256 [==============================] - 22s 330us/step - loss: 0.2402 - acc: 0.9144 - val_loss: 0.0576 - val_acc: 0.9818\n",
      "Epoch 12/30\n",
      "65256/65256 [==============================] - 21s 327us/step - loss: 0.2265 - acc: 0.9201 - val_loss: 0.0541 - val_acc: 0.9834\n"
     ]
    }
   ],
   "source": [
    "model_glove_lstm_hist_b = model.fit(train_a_b, train_y_b, validation_data=(dev_a_b, dev_y_b), epochs=30, batch_size=64, shuffle=True, callbacks=[early_stopping])"
   ]
  },
  {
   "cell_type": "code",
   "execution_count": 48,
   "metadata": {},
   "outputs": [
    {
     "data": {
      "image/png": "[encoded data removed]",
      "text/plain": [
       "<Figure size 432x288 with 1 Axes>"
      ]
     },
     "metadata": {
      "needs_background": "light"
     },
     "output_type": "display_data"
    },
    {
     "data": {
      "image/png": "[encoded data removed]",
      "text/plain": [
       "<Figure size 432x288 with 1 Axes>"
      ]
     },
     "metadata": {
      "needs_background": "light"
     },
     "output_type": "display_data"
    },
    {
     "data": {
      "image/png": "[encoded data removed]",
      "text/plain": [
       "<Figure size 432x288 with 1 Axes>"
      ]
     },
     "metadata": {
      "needs_background": "light"
     },
     "output_type": "display_data"
    },
    {
     "data": {
      "image/png": "[encoded data removed]",
      "text/plain": [
       "<Figure size 432x288 with 1 Axes>"
      ]
     },
     "metadata": {
      "needs_background": "light"
     },
     "output_type": "display_data"
    }
   ],
   "source": [
    "plot_loss(model_glove_lstm_hist)\n",
    "plot_acc(model_glove_lstm_hist)\n",
    "plot_loss(model_glove_lstm_hist_b)\n",
    "plot_acc(model_glove_lstm_hist_b)"
   ]
  },
  {
   "cell_type": "code",
   "execution_count": 79,
   "metadata": {
    "scrolled": true
   },
   "outputs": [],
   "source": [
    "test_a = np.stack(test_lp['t_answer'], axis=0)\n",
    "test_y = np.stack(test_lp['cat_level'], axis=0)\n",
    "test_a_b = np.stack(test_lp_b['t_answer'], axis=0)\n",
    "test_y_b = np.stack(test_lp_b['cat_level'], axis=0)\n",
    "df_confusion = confusion_matrix(model, test_a_b, test_y_b)"
   ]
  },
  {
   "cell_type": "code",
   "execution_count": 80,
   "metadata": {},
   "outputs": [
    {
     "data": {
      "text/html": [
       "<div>\n",
       "<style scoped>\n",
       "    .dataframe tbody tr th:only-of-type {\n",
       "        vertical-align: middle;\n",
       "    }\n",
       "\n",
       "    .dataframe tbody tr th {\n",
       "        vertical-align: top;\n",
       "    }\n",
       "\n",
       "    .dataframe thead th {\n",
       "        text-align: right;\n",
       "    }\n",
       "</style>\n",
       "<table border=\"1\" class=\"dataframe\">\n",
       "  <thead>\n",
       "    <tr style=\"text-align: right;\">\n",
       "      <th>col_0</th>\n",
       "      <th>none</th>\n",
       "      <th>mild</th>\n",
       "      <th>moderate</th>\n",
       "      <th>moderately severe</th>\n",
       "      <th>severe</th>\n",
       "    </tr>\n",
       "    <tr>\n",
       "      <th>row_0</th>\n",
       "      <th></th>\n",
       "      <th></th>\n",
       "      <th></th>\n",
       "      <th></th>\n",
       "      <th></th>\n",
       "    </tr>\n",
       "  </thead>\n",
       "  <tbody>\n",
       "    <tr>\n",
       "      <th>none</th>\n",
       "      <td>3533</td>\n",
       "      <td>19</td>\n",
       "      <td>21</td>\n",
       "      <td>8</td>\n",
       "      <td>12</td>\n",
       "    </tr>\n",
       "    <tr>\n",
       "      <th>mild</th>\n",
       "      <td>8</td>\n",
       "      <td>2881</td>\n",
       "      <td>23</td>\n",
       "      <td>7</td>\n",
       "      <td>15</td>\n",
       "    </tr>\n",
       "    <tr>\n",
       "      <th>moderate</th>\n",
       "      <td>8</td>\n",
       "      <td>9</td>\n",
       "      <td>3084</td>\n",
       "      <td>5</td>\n",
       "      <td>18</td>\n",
       "    </tr>\n",
       "    <tr>\n",
       "      <th>moderately severe</th>\n",
       "      <td>12</td>\n",
       "      <td>11</td>\n",
       "      <td>34</td>\n",
       "      <td>2770</td>\n",
       "      <td>16</td>\n",
       "    </tr>\n",
       "    <tr>\n",
       "      <th>severe</th>\n",
       "      <td>7</td>\n",
       "      <td>6</td>\n",
       "      <td>5</td>\n",
       "      <td>5</td>\n",
       "      <td>2398</td>\n",
       "    </tr>\n",
       "  </tbody>\n",
       "</table>\n",
       "</div>"
      ],
      "text/plain": [
       "col_0              none  mild  moderate  moderately severe  severe\n",
       "row_0                                                             \n",
       "none               3533    19        21                  8      12\n",
       "mild                  8  2881        23                  7      15\n",
       "moderate              8     9      3084                  5      18\n",
       "moderately severe    12    11        34               2770      16\n",
       "severe                7     6         5                  5    2398"
      ]
     },
     "execution_count": 80,
     "metadata": {},
     "output_type": "execute_result"
    }
   ],
   "source": [
    "df_confusion"
   ]
  },
  {
   "cell_type": "code",
   "execution_count": 74,
   "metadata": {},
   "outputs": [
    {
     "name": "stdout",
     "output_type": "stream",
     "text": [
      "Test loss: 0.05473436229941535\n",
      "Test accuracy: 0.9833053972510895\n"
     ]
    }
   ],
   "source": [
    "score = model.evaluate(test_a_b, test_y_b, verbose=0)\n",
    "print('Test loss:', score[0])\n",
    "print('Test accuracy:', score[1])"
   ]
  },
  {
   "cell_type": "code",
   "execution_count": 44,
   "metadata": {},
   "outputs": [],
   "source": [
    "model.save('models/model_glove_lstm_b.h5')\n",
    "\n",
    "with open('models/model_glove_lstm_b_hist.json', 'w') as f:\n",
    "    json.dump(model_glove_lstm_hist.history, f)"
   ]
  },
  {
   "cell_type": "code",
   "execution_count": 102,
   "metadata": {
    "scrolled": true
   },
   "outputs": [
    {
     "name": "stdout",
     "output_type": "stream",
     "text": [
      "All is going right with the party, I'm happy to know new people\n",
      "none\n",
      "I want an ice cream and have some fries for lunch\n",
      "mild\n",
      "I'm afraid of losing my work, I don't have any money\n",
      "severe\n",
      "I'm worried about my future, I'm afraid of it\n",
      "severe\n",
      "I am a graduate student\n",
      "none\n",
      "I am getting married\n",
      "severe\n",
      "This party is great, I know lots of people\n",
      "none\n",
      "I miss my parents, brothers and sisters\n",
      "mild\n",
      "I detest my horrible job\n",
      "moderate\n",
      "suicide\n",
      "severe\n"
     ]
    }
   ],
   "source": [
    "sen = \"All is going right with the party, I'm happy to know new people\"\n",
    "test_model(sen, model)\n",
    "sen = \"I want an ice cream and have some fries for lunch\"\n",
    "test_model(sen, model)\n",
    "sen = \"I'm afraid of losing my work, I don't have any money\"\n",
    "test_model(sen, model)\n",
    "sen = \"I'm worried about my future, I'm afraid of it\"\n",
    "test_model(sen, model)\n",
    "sen = \"I am a graduate student\"\n",
    "test_model(sen, model)\n",
    "sen = \"I am getting married\"\n",
    "test_model(sen, model)\n",
    "sen = \"This party is great, I know lots of people\"\n",
    "test_model(sen, model)\n",
    "sen = \"I miss my parents, brothers and sisters\"\n",
    "test_model(sen, model)\n",
    "sen = \"I detest my horrible job\"\n",
    "test_model(sen, model)\n",
    "sen = \"suicide\"\n",
    "test_model(sen, model)"
   ]
  },
  {
   "cell_type": "code",
   "execution_count": 60,
   "metadata": {},
   "outputs": [
    {
     "name": "stdout",
     "output_type": "stream",
     "text": [
      "_________________________________________________________________\n",
      "Layer (type)                 Output Shape              Param #   \n",
      "=================================================================\n",
      "input_3 (InputLayer)         (None, 10)                0         \n",
      "_________________________________________________________________\n",
      "embedding_3 (Embedding)      (None, 10, 100)           745000    \n",
      "_________________________________________________________________\n",
      "lstm_2 (LSTM)                (None, 10, 100)           80400     \n",
      "_________________________________________________________________\n",
      "lstm_3 (LSTM)                (None, 100)               80400     \n",
      "_________________________________________________________________\n",
      "dropout_1 (Dropout)          (None, 100)               0         \n",
      "_________________________________________________________________\n",
      "batch_normalization_2 (Batch (None, 100)               400       \n",
      "_________________________________________________________________\n",
      "dense_4 (Dense)              (None, 256)               25856     \n",
      "_________________________________________________________________\n",
      "dense_5 (Dense)              (None, 5)                 1285      \n",
      "=================================================================\n",
      "Total params: 933,341\n",
      "Trainable params: 188,141\n",
      "Non-trainable params: 745,200\n",
      "_________________________________________________________________\n"
     ]
    }
   ],
   "source": [
    "answer_inp = Input(shape=(windows_size, ))\n",
    "embedding_size_glove = 100\n",
    "answer_emb1 = Embedding(vocab_size_stop+1, embedding_size_glove, weights=[embedding_matrix_lp], input_length=windows_size, trainable=False)(answer_inp)\n",
    "\n",
    "\n",
    "lstm1 = LSTM(embedding_size_glove, return_sequences=True, dropout=0.2, recurrent_dropout=0.2)(answer_emb1)\n",
    "lstm2 = LSTM(embedding_size_glove, dropout=0.2, recurrent_dropout=0.2)(lstm1)\n",
    "\n",
    "X = Dropout(0.2)(lstm2)\n",
    "bt = BatchNormalization()(X)\n",
    "dense1 = Dense(units=256, activation=\"relu\")(bt)\n",
    "\n",
    "out = Dense(5,  activation='softmax')(dense1)\n",
    "\n",
    "model_2lstm = Model(inputs=[answer_inp], outputs=[out])\n",
    "model_2lstm.compile(optimizer=\"adam\", loss='categorical_crossentropy', metrics=['accuracy'])\n",
    "model_2lstm.summary()"
   ]
  },
  {
   "cell_type": "code",
   "execution_count": 70,
   "metadata": {},
   "outputs": [
    {
     "name": "stdout",
     "output_type": "stream",
     "text": [
      "Train on 65256 samples, validate on 13051 samples\n",
      "Epoch 1/30\n",
      "65256/65256 [==============================] - 18s 283us/step - loss: 0.7295 - acc: 0.7238 - val_loss: 0.4549 - val_acc: 0.8511\n",
      "Epoch 2/30\n",
      "65256/65256 [==============================] - 22s 340us/step - loss: 0.7224 - acc: 0.7290 - val_loss: 0.4402 - val_acc: 0.8556\n",
      "Epoch 3/30\n",
      "65256/65256 [==============================] - 22s 343us/step - loss: 0.7169 - acc: 0.7293 - val_loss: 0.4431 - val_acc: 0.8557\n",
      "Epoch 4/30\n",
      "65256/65256 [==============================] - 23s 351us/step - loss: 0.7047 - acc: 0.7353 - val_loss: 0.4246 - val_acc: 0.8611\n",
      "Epoch 5/30\n",
      "65256/65256 [==============================] - 23s 359us/step - loss: 0.6928 - acc: 0.7403 - val_loss: 0.4180 - val_acc: 0.8601\n",
      "Epoch 6/30\n",
      "65256/65256 [==============================] - 24s 367us/step - loss: 0.6982 - acc: 0.7378 - val_loss: 0.4089 - val_acc: 0.8646\n",
      "Epoch 7/30\n",
      "65256/65256 [==============================] - 24s 361us/step - loss: 0.6866 - acc: 0.7425 - val_loss: 0.3996 - val_acc: 0.8653\n",
      "Epoch 8/30\n",
      "65256/65256 [==============================] - 23s 355us/step - loss: 0.6851 - acc: 0.7434 - val_loss: 0.4003 - val_acc: 0.8687\n",
      "Epoch 9/30\n",
      "65256/65256 [==============================] - 23s 359us/step - loss: 0.6838 - acc: 0.7448 - val_loss: 0.3864 - val_acc: 0.8742\n",
      "Epoch 10/30\n",
      "65256/65256 [==============================] - 24s 366us/step - loss: 0.6737 - acc: 0.7487 - val_loss: 0.3895 - val_acc: 0.8748\n",
      "Epoch 11/30\n",
      "65256/65256 [==============================] - 27s 408us/step - loss: 0.6674 - acc: 0.7500 - val_loss: 0.3826 - val_acc: 0.8752\n",
      "Epoch 12/30\n",
      "65256/65256 [==============================] - 24s 375us/step - loss: 0.6637 - acc: 0.7509 - val_loss: 0.3828 - val_acc: 0.8743\n",
      "Epoch 13/30\n",
      "65256/65256 [==============================] - 26s 392us/step - loss: 0.6552 - acc: 0.7550 - val_loss: 0.3725 - val_acc: 0.8781\n",
      "Epoch 14/30\n",
      "65256/65256 [==============================] - 25s 377us/step - loss: 0.6633 - acc: 0.7520 - val_loss: 0.3605 - val_acc: 0.8838\n",
      "Epoch 15/30\n",
      "65256/65256 [==============================] - 25s 381us/step - loss: 0.6482 - acc: 0.7590 - val_loss: 0.3520 - val_acc: 0.8874\n",
      "Epoch 16/30\n",
      "65256/65256 [==============================] - 25s 379us/step - loss: 0.6443 - acc: 0.7603 - val_loss: 0.3494 - val_acc: 0.8841\n",
      "Epoch 17/30\n",
      "65256/65256 [==============================] - 25s 384us/step - loss: 0.6458 - acc: 0.7590 - val_loss: 0.3320 - val_acc: 0.8966\n",
      "Epoch 18/30\n",
      "65256/65256 [==============================] - 25s 378us/step - loss: 0.6346 - acc: 0.7642 - val_loss: 0.3314 - val_acc: 0.8960\n",
      "Epoch 19/30\n",
      "65256/65256 [==============================] - 25s 388us/step - loss: 0.6387 - acc: 0.7604 - val_loss: 0.3310 - val_acc: 0.8981\n",
      "Epoch 20/30\n",
      "65256/65256 [==============================] - 24s 373us/step - loss: 0.6332 - acc: 0.7653 - val_loss: 0.3314 - val_acc: 0.8950\n",
      "Epoch 21/30\n",
      "65256/65256 [==============================] - 24s 374us/step - loss: 0.6283 - acc: 0.7668 - val_loss: 0.3340 - val_acc: 0.8939\n",
      "Epoch 22/30\n",
      "65256/65256 [==============================] - 24s 367us/step - loss: 0.6290 - acc: 0.7661 - val_loss: 0.3156 - val_acc: 0.9032\n",
      "Epoch 23/30\n",
      "65256/65256 [==============================] - 24s 374us/step - loss: 0.6243 - acc: 0.7695 - val_loss: 0.3118 - val_acc: 0.9038\n",
      "Epoch 24/30\n",
      "65256/65256 [==============================] - 25s 376us/step - loss: 0.6182 - acc: 0.7711 - val_loss: 0.3100 - val_acc: 0.9044\n",
      "Epoch 25/30\n",
      "65256/65256 [==============================] - 25s 377us/step - loss: 0.6173 - acc: 0.7711 - val_loss: 0.3039 - val_acc: 0.9025\n",
      "Epoch 26/30\n",
      "65256/65256 [==============================] - 24s 363us/step - loss: 0.6103 - acc: 0.7756 - val_loss: 0.3033 - val_acc: 0.9061\n",
      "Epoch 27/30\n",
      "65256/65256 [==============================] - 24s 362us/step - loss: 0.6088 - acc: 0.7760 - val_loss: 0.2997 - val_acc: 0.9074\n",
      "Epoch 28/30\n",
      "65256/65256 [==============================] - 24s 365us/step - loss: 0.6027 - acc: 0.7767 - val_loss: 0.2925 - val_acc: 0.9121\n",
      "Epoch 29/30\n",
      "65256/65256 [==============================] - 24s 365us/step - loss: 0.6055 - acc: 0.7768 - val_loss: 0.2972 - val_acc: 0.9068\n",
      "Epoch 30/30\n",
      "65256/65256 [==============================] - 24s 367us/step - loss: 0.6012 - acc: 0.7792 - val_loss: 0.2885 - val_acc: 0.9142\n"
     ]
    }
   ],
   "source": [
    "model_glove_2lstm_b_hist = model_2lstm.fit(train_a_b, train_y_b, validation_data=(dev_a_b, dev_y_b), epochs=30, batch_size=64, shuffle=True, callbacks=[early_stopping])"
   ]
  },
  {
   "cell_type": "code",
   "execution_count": 71,
   "metadata": {},
   "outputs": [
    {
     "data": {
      "image/png": "[encoded data removed]",
      "text/plain": [
       "<Figure size 432x288 with 1 Axes>"
      ]
     },
     "metadata": {
      "needs_background": "light"
     },
     "output_type": "display_data"
    },
    {
     "data": {
      "image/png": "[encoded data removed]",
      "text/plain": [
       "<Figure size 432x288 with 1 Axes>"
      ]
     },
     "metadata": {
      "needs_background": "light"
     },
     "output_type": "display_data"
    }
   ],
   "source": [
    "plot_loss(model_glove_2lstm_b_hist)\n",
    "plot_acc(model_glove_2lstm_b_hist)"
   ]
  },
  {
   "cell_type": "code",
   "execution_count": 76,
   "metadata": {},
   "outputs": [
    {
     "name": "stdout",
     "output_type": "stream",
     "text": [
      "Test loss: 0.2921677132450891\n",
      "Test accuracy: 0.9124371438149514\n"
     ]
    }
   ],
   "source": [
    "score = model_2lstm.evaluate(test_a_b, test_y_b, verbose=0)\n",
    "print('Test loss:', score[0])\n",
    "print('Test accuracy:', score[1])"
   ]
  },
  {
   "cell_type": "code",
   "execution_count": 81,
   "metadata": {},
   "outputs": [],
   "source": [
    "df_confusion = confusion_matrix(model_2lstm, test_a_b, test_y_b)"
   ]
  },
  {
   "cell_type": "code",
   "execution_count": 82,
   "metadata": {},
   "outputs": [
    {
     "data": {
      "text/html": [
       "<div>\n",
       "<style scoped>\n",
       "    .dataframe tbody tr th:only-of-type {\n",
       "        vertical-align: middle;\n",
       "    }\n",
       "\n",
       "    .dataframe tbody tr th {\n",
       "        vertical-align: top;\n",
       "    }\n",
       "\n",
       "    .dataframe thead th {\n",
       "        text-align: right;\n",
       "    }\n",
       "</style>\n",
       "<table border=\"1\" class=\"dataframe\">\n",
       "  <thead>\n",
       "    <tr style=\"text-align: right;\">\n",
       "      <th>col_0</th>\n",
       "      <th>none</th>\n",
       "      <th>mild</th>\n",
       "      <th>moderate</th>\n",
       "      <th>moderately severe</th>\n",
       "      <th>severe</th>\n",
       "    </tr>\n",
       "    <tr>\n",
       "      <th>row_0</th>\n",
       "      <th></th>\n",
       "      <th></th>\n",
       "      <th></th>\n",
       "      <th></th>\n",
       "      <th></th>\n",
       "    </tr>\n",
       "  </thead>\n",
       "  <tbody>\n",
       "    <tr>\n",
       "      <th>none</th>\n",
       "      <td>3319</td>\n",
       "      <td>72</td>\n",
       "      <td>106</td>\n",
       "      <td>50</td>\n",
       "      <td>46</td>\n",
       "    </tr>\n",
       "    <tr>\n",
       "      <th>mild</th>\n",
       "      <td>71</td>\n",
       "      <td>2701</td>\n",
       "      <td>62</td>\n",
       "      <td>59</td>\n",
       "      <td>41</td>\n",
       "    </tr>\n",
       "    <tr>\n",
       "      <th>moderate</th>\n",
       "      <td>74</td>\n",
       "      <td>37</td>\n",
       "      <td>2903</td>\n",
       "      <td>45</td>\n",
       "      <td>65</td>\n",
       "    </tr>\n",
       "    <tr>\n",
       "      <th>moderately severe</th>\n",
       "      <td>123</td>\n",
       "      <td>45</td>\n",
       "      <td>110</td>\n",
       "      <td>2510</td>\n",
       "      <td>55</td>\n",
       "    </tr>\n",
       "    <tr>\n",
       "      <th>severe</th>\n",
       "      <td>65</td>\n",
       "      <td>58</td>\n",
       "      <td>74</td>\n",
       "      <td>48</td>\n",
       "      <td>2176</td>\n",
       "    </tr>\n",
       "  </tbody>\n",
       "</table>\n",
       "</div>"
      ],
      "text/plain": [
       "col_0              none  mild  moderate  moderately severe  severe\n",
       "row_0                                                             \n",
       "none               3319    72       106                 50      46\n",
       "mild                 71  2701        62                 59      41\n",
       "moderate             74    37      2903                 45      65\n",
       "moderately severe   123    45       110               2510      55\n",
       "severe               65    58        74                 48    2176"
      ]
     },
     "execution_count": 82,
     "metadata": {},
     "output_type": "execute_result"
    }
   ],
   "source": [
    "df_confusion"
   ]
  },
  {
   "cell_type": "code",
   "execution_count": 56,
   "metadata": {},
   "outputs": [],
   "source": [
    "model_2lstm.save('models/model_glove_2lstm_b.h5')\n",
    "\n",
    "with open('models/model_glove_2lstm_b_hist.json', 'w') as f:\n",
    "    json.dump(model_glove_2lstm_b_hist.history, f)"
   ]
  },
  {
   "cell_type": "code",
   "execution_count": 103,
   "metadata": {},
   "outputs": [
    {
     "name": "stdout",
     "output_type": "stream",
     "text": [
      "All is going right with the party, I'm happy to know new people\n",
      "mild\n",
      "I want an ice cream and have some fries for lunch\n",
      "mild\n",
      "I'm afraid of losing my work, I don't have any money\n",
      "moderate\n",
      "I'm worried about my future, I'm afraid of it\n",
      "mild\n",
      "My father loves me\n",
      "moderate\n"
     ]
    }
   ],
   "source": [
    "sen = \"All is going right with the party, I'm happy to know new people\"\n",
    "test_model(sen, model_2lstm)\n",
    "sen = \"I want an ice cream and have some fries for lunch\"\n",
    "test_model(sen, model_2lstm)\n",
    "sen = \"I'm afraid of losing my work, I don't have any money\"\n",
    "test_model(sen, model_2lstm)\n",
    "sen = \"I'm worried about my future, I'm afraid of it\"\n",
    "test_model(sen, model_2lstm)\n",
    "sen = \"My father loves me\"\n",
    "test_model(sen, model_2lstm)"
   ]
  }
 ],
 "metadata": {
  "kernelspec": {
   "display_name": "Python 3",
   "language": "python",
   "name": "python3"
  },
  "language_info": {
   "codemirror_mode": {
    "name": "ipython",
    "version": 3
   },
   "file_extension": ".py",
   "mimetype": "text/x-python",
   "name": "python",
   "nbconvert_exporter": "python",
   "pygments_lexer": "ipython3",
   "version": "3.6.8"
  }
 },
 "nbformat": 4,
 "nbformat_minor": 2
}
