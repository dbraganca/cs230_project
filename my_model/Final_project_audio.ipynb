{
 "cells": [
  {
   "cell_type": "code",
   "execution_count": 289,
   "metadata": {},
   "outputs": [],
   "source": [
    "from pydub import AudioSegment\n",
    "from scipy import signal\n",
    "from sklearn.utils import shuffle\n",
    "import re\n",
    "import pandas as pd\n",
    "import numpy as np\n",
    "import statistics as stats\n",
    "import matplotlib.pyplot as plt\n",
    "from scipy import signal\n",
    "from scipy.io import wavfile\n",
    "import librosa\n",
    "from librosa import display\n",
    "from sklearn.metrics import confusion_matrix\n",
    "import keras\n",
    "from keras.models import Sequential, Model\n",
    "from keras.layers import Dense, Dropout, Flatten, BatchNormalization, Embedding, Activation\n",
    "from keras.layers import Conv1D, Conv2D, MaxPooling2D, ConvLSTM2D, LSTM, Bidirectional, GRU, TimeDistributed\n",
    "from keras.optimizers import sgd, Adam\n",
    "from keras.engine.input_layer import Input\n",
    "from keras.callbacks import EarlyStopping, ModelCheckpoint\n",
    "import tensorflow as tf\n",
    "import itertools\n",
    "import math\n",
    "import time\n",
    "import os\n",
    "import json"
   ]
  },
  {
   "cell_type": "code",
   "execution_count": 2,
   "metadata": {},
   "outputs": [],
   "source": [
    "num_classes = 5\n",
    "data_path = \"data/raw/transcripts/\"\n",
    "audio_path = \"data/raw/audio/\""
   ]
  },
  {
   "cell_type": "code",
   "execution_count": 3,
   "metadata": {},
   "outputs": [],
   "source": [
    "SR = 22050\n",
    "def get_short_time_fourier_transform(soundwave):\n",
    "    return librosa.stft(soundwave, n_fft=256)\n",
    "\n",
    "def short_time_fourier_transform_amplitude_to_db(stft):\n",
    "    return librosa.amplitude_to_db(stft)\n",
    "\n",
    "def soundwave_to_np_spectrogram(soundwave):\n",
    "    step1 = get_short_time_fourier_transform(soundwave)\n",
    "    step2 = short_time_fourier_transform_amplitude_to_db(step1)\n",
    "    step3 = step2/100\n",
    "    return step3\n",
    "\n",
    "def inspect_data(sound):\n",
    "    a = get_short_time_fourier_transform(sound)\n",
    "    Xdb = short_time_fourier_transform_amplitude_to_db(a)\n",
    "    return Xdb"
   ]
  },
  {
   "cell_type": "code",
   "execution_count": 4,
   "metadata": {},
   "outputs": [],
   "source": [
    "def confusion_matrix(model, x, y):\n",
    "    prediction = model.predict(x, batch_size=None, verbose=0, steps=None)\n",
    "    labels=['none','mild','moderate','moderately severe', 'severe']\n",
    "\n",
    "    max_prediction = np.argmax(prediction, axis=1)\n",
    "    max_actual = np.argmax(y, axis=1)\n",
    "\n",
    "    y_pred = pd.Categorical.from_codes(max_prediction, labels)\n",
    "    y_actu = pd.Categorical.from_codes(max_actual, labels)\n",
    "\n",
    "    return pd.crosstab(y_actu, y_pred)"
   ]
  },
  {
   "cell_type": "code",
   "execution_count": 5,
   "metadata": {},
   "outputs": [],
   "source": [
    "def load_avec_dataset_file(path, score_column):\n",
    "    ds = pd.read_csv(path, sep=',')\n",
    "    ds['level'] = pd.cut(ds[score_column], bins=[-1,0,5,10,15,25], labels=[0,1,2,3,4])\n",
    "    ds['PHQ8_Score'] = ds[score_column]\n",
    "    ds['cat_level'] = keras.utils.to_categorical(ds['level'], num_classes).tolist()\n",
    "    ds = ds[['Participant_ID', 'level', 'cat_level', 'PHQ8_Score']]\n",
    "    ds = ds.astype({\"Participant_ID\": float, \"level\": int, 'PHQ8_Score': int})\n",
    "    return ds"
   ]
  },
  {
   "cell_type": "code",
   "execution_count": 6,
   "metadata": {},
   "outputs": [
    {
     "name": "stdout",
     "output_type": "stream",
     "text": [
      "Size: train= 107, dev= 35, test= 47\n"
     ]
    },
    {
     "data": {
      "text/html": [
       "<div>\n",
       "<style scoped>\n",
       "    .dataframe tbody tr th:only-of-type {\n",
       "        vertical-align: middle;\n",
       "    }\n",
       "\n",
       "    .dataframe tbody tr th {\n",
       "        vertical-align: top;\n",
       "    }\n",
       "\n",
       "    .dataframe thead th {\n",
       "        text-align: right;\n",
       "    }\n",
       "</style>\n",
       "<table border=\"1\" class=\"dataframe\">\n",
       "  <thead>\n",
       "    <tr style=\"text-align: right;\">\n",
       "      <th></th>\n",
       "      <th>Participant_ID</th>\n",
       "      <th>level</th>\n",
       "      <th>cat_level</th>\n",
       "      <th>PHQ8_Score</th>\n",
       "    </tr>\n",
       "  </thead>\n",
       "  <tbody>\n",
       "    <tr>\n",
       "      <th>0</th>\n",
       "      <td>303.0</td>\n",
       "      <td>0</td>\n",
       "      <td>[1.0, 0.0, 0.0, 0.0, 0.0]</td>\n",
       "      <td>0</td>\n",
       "    </tr>\n",
       "    <tr>\n",
       "      <th>1</th>\n",
       "      <td>304.0</td>\n",
       "      <td>2</td>\n",
       "      <td>[0.0, 0.0, 1.0, 0.0, 0.0]</td>\n",
       "      <td>6</td>\n",
       "    </tr>\n",
       "    <tr>\n",
       "      <th>2</th>\n",
       "      <td>305.0</td>\n",
       "      <td>2</td>\n",
       "      <td>[0.0, 0.0, 1.0, 0.0, 0.0]</td>\n",
       "      <td>7</td>\n",
       "    </tr>\n",
       "    <tr>\n",
       "      <th>3</th>\n",
       "      <td>310.0</td>\n",
       "      <td>1</td>\n",
       "      <td>[0.0, 1.0, 0.0, 0.0, 0.0]</td>\n",
       "      <td>4</td>\n",
       "    </tr>\n",
       "    <tr>\n",
       "      <th>4</th>\n",
       "      <td>312.0</td>\n",
       "      <td>1</td>\n",
       "      <td>[0.0, 1.0, 0.0, 0.0, 0.0]</td>\n",
       "      <td>2</td>\n",
       "    </tr>\n",
       "  </tbody>\n",
       "</table>\n",
       "</div>"
      ],
      "text/plain": [
       "   Participant_ID  level                  cat_level  PHQ8_Score\n",
       "0           303.0      0  [1.0, 0.0, 0.0, 0.0, 0.0]           0\n",
       "1           304.0      2  [0.0, 0.0, 1.0, 0.0, 0.0]           6\n",
       "2           305.0      2  [0.0, 0.0, 1.0, 0.0, 0.0]           7\n",
       "3           310.0      1  [0.0, 1.0, 0.0, 0.0, 0.0]           4\n",
       "4           312.0      1  [0.0, 1.0, 0.0, 0.0, 0.0]           2"
      ]
     },
     "execution_count": 6,
     "metadata": {},
     "output_type": "execute_result"
    }
   ],
   "source": [
    "train = load_avec_dataset_file('data/train_split_Depression_AVEC2017.csv', 'PHQ8_Score')\n",
    "dev = load_avec_dataset_file('data/dev_split_Depression_AVEC2017.csv', 'PHQ8_Score')\n",
    "test = load_avec_dataset_file('data/full_test_split.csv', 'PHQ8_Score')\n",
    "print(\"Size: train= {}, dev= {}, test= {}\".format(len(train), len(dev), len(test)))\n",
    "train.head()"
   ]
  },
  {
   "cell_type": "code",
   "execution_count": 7,
   "metadata": {},
   "outputs": [
    {
     "name": "stdout",
     "output_type": "stream",
     "text": [
      "Total size = 189\n"
     ]
    }
   ],
   "source": [
    "ds_total = pd.concat([train,dev,test])\n",
    "total_phq8 = len(ds_total)\n",
    "print(\"Total size = {}\".format(total_phq8))"
   ]
  },
  {
   "cell_type": "code",
   "execution_count": 8,
   "metadata": {},
   "outputs": [
    {
     "name": "stdout",
     "output_type": "stream",
     "text": [
      "File was created\n"
     ]
    }
   ],
   "source": [
    "ds_total.to_csv(data_path + 'ds_total.csv', sep='\\t')\n",
    "print(\"File was created\")"
   ]
  },
  {
   "cell_type": "code",
   "execution_count": 9,
   "metadata": {},
   "outputs": [],
   "source": [
    "def segment_audio(ds_total, transcript_directory, audio_directory, audio_out):\n",
    "    input_array = []\n",
    "    person_id_list = []\n",
    "    level_array = []\n",
    "    \n",
    "    filenames = os.listdir(transcript_directory)\n",
    "    \n",
    "    if \".DS_Store\" in filenames:\n",
    "        filenames.remove(\".DS_Store\")\n",
    "        \n",
    "    for filename in filenames:\n",
    "        transcript_path = os.path.join(transcript_directory, filename)\n",
    "        transcript = pd.read_csv(transcript_path, sep='\\t')\n",
    "        m = re.search(\"(\\d{3})_TRANSCRIPT.csv\", filename)\n",
    "        if m:\n",
    "            person_id = int(m.group(1))            \n",
    "#             person_audio = AudioSegment.from_wav(audio_directory \n",
    "#                                              + str(person_id) + '_AUDIO.wav')\n",
    "#             lines = len(transcript)\n",
    "#             combined_sounds = AudioSegment.empty()\n",
    "#             for i in range(0, lines):\n",
    "#                 row = transcript.iloc[i]\n",
    "#                 if row[\"speaker\"] == \"Participant\":\n",
    "#                     t1 = int(float(row[\"start_time\"]) * 1000)\n",
    "#                     t2 = int(float(row[\"stop_time\"]) * 1000)\n",
    "#                     newAudio = person_audio[t1:t2]\n",
    "#                     combined_sounds += newAudio\n",
    "                    \n",
    "#             combined_sounds.export(audio_out + str(person_id) + '.wav', format=\"wav\")\n",
    "            w = AudioSegment.from_wav(audio_out + str(person_id) + '.wav')\n",
    "            input_array.append(w)\n",
    "            person_id_list.append(person_id)\n",
    "            level_array.append(ds_total.loc[ds_total[\"Participant_ID\"] == person_id, \"level\"].item())\n",
    "    return input_array, person_id_list, level_array"
   ]
  },
  {
   "cell_type": "code",
   "execution_count": 10,
   "metadata": {},
   "outputs": [],
   "source": [
    "input_array, person_id_list, level_array = segment_audio(ds_total, data_path , audio_path, \"data/audio_cut/\")"
   ]
  },
  {
   "cell_type": "code",
   "execution_count": 11,
   "metadata": {},
   "outputs": [],
   "source": [
    "len_list = []\n",
    "for audio_file in input_array:\n",
    "    len_list.append(int(len(audio_file) / (1000)))"
   ]
  },
  {
   "cell_type": "code",
   "execution_count": 17,
   "metadata": {},
   "outputs": [],
   "source": [
    "# Audio sample creation in each .wav file by moving the time window along the .wav\n",
    "# The length of the time window can vary and can be adjusted, also the number of samples of each .wav file\n",
    "# can be increased or decreased\n",
    "\n",
    "\n",
    "\n",
    "person_id_list_extended = []\n",
    "trim_array = []\n",
    "level_array_extended = []\n",
    "stride = 15\n",
    "time_window = 7\n",
    "n_samples_max = 10\n",
    "path = \"data/audio_augmented/time_window_\" + str(time_window) + \"_stride_\" + str(stride) + \"_max_\" + str(n_samples_max) +\"/\"\n",
    "\n",
    "if not os.path.exists(path):\n",
    "    os.makedirs(path)\n",
    "\n",
    "for audio_file, person_id, level in zip(input_array, person_id_list, level_array):  \n",
    "    n_samples = min(n_samples_max, int((len(audio_file) - time_window * 1000)/(stride * 1000)))\n",
    "    t1_ini = 0\n",
    "    t2_end = time_window * 1000\n",
    "    for i in range(n_samples):\n",
    "        t1_ini = t1_ini + stride * 1000\n",
    "        t2_end = t2_end + stride * 1000\n",
    "        audio_trim = audio_file[t1_ini:t2_end]\n",
    "        trim_array.append(audio_trim)\n",
    "        person_id_list_extended.append(person_id)\n",
    "        level_array_extended.append(level)\n",
    "        audio_trim.export(path + str(person_id) + '_' + str(i) + '.wav', format=\"wav\")\n"
   ]
  },
  {
   "cell_type": "code",
   "execution_count": 18,
   "metadata": {},
   "outputs": [
    {
     "data": {
      "text/plain": [
       "1869"
      ]
     },
     "execution_count": 18,
     "metadata": {},
     "output_type": "execute_result"
    }
   ],
   "source": [
    "len(trim_array)"
   ]
  },
  {
   "cell_type": "code",
   "execution_count": 247,
   "metadata": {},
   "outputs": [],
   "source": [
    "# person_id_list_padded = []\n",
    "# padded_array = []\n",
    "# level_array_padded = []\n",
    "# max_size = max(len_list)\n",
    "# mean_size = np.mean(len_list)\n",
    "# min_size = min(len_list)\n",
    "# for audio_file, person_id, level in zip(input_array, person_id_list, level_array):  \n",
    "#     padding = AudioSegment.silent(duration = min_size * 1000)\n",
    "#     audio_trim = padding.overlay(audio_file)\n",
    "#     padded_array.append(audio_trim)\n",
    "#     person_id_list_padded.append(person_id)\n",
    "#     level_array_padded.append(level)\n",
    "#     audio_trim.export(\"data/audio_cut_padded/min/\" + str(person_id) + '.wav', format=\"wav\")"
   ]
  },
  {
   "cell_type": "code",
   "execution_count": 248,
   "metadata": {},
   "outputs": [
    {
     "data": {
      "text/plain": [
       "189"
      ]
     },
     "execution_count": 248,
     "metadata": {},
     "output_type": "execute_result"
    }
   ],
   "source": [
    "#len(padded_array)"
   ]
  },
  {
   "cell_type": "code",
   "execution_count": 21,
   "metadata": {
    "scrolled": true
   },
   "outputs": [],
   "source": [
    "# Read the audio sample and calculate the normalized spectrogram\n",
    "\n",
    "X, sr = librosa.load(path + '301' + '_' + '1' + '.wav')\n",
    "sample = soundwave_to_np_spectrogram(X)\n",
    "sample = sample[0:95,:]"
   ]
  },
  {
   "cell_type": "code",
   "execution_count": 22,
   "metadata": {},
   "outputs": [
    {
     "data": {
      "text/plain": [
       "(95, 2412)"
      ]
     },
     "execution_count": 22,
     "metadata": {},
     "output_type": "execute_result"
    }
   ],
   "source": [
    "sample.shape"
   ]
  },
  {
   "cell_type": "code",
   "execution_count": 144,
   "metadata": {},
   "outputs": [],
   "source": [
    "X, sr = librosa.load('data/audio_cut_padded/mean/' + '301' + '.wav')\n",
    "sample = soundwave_to_np_spectrogram(X)"
   ]
  },
  {
   "cell_type": "code",
   "execution_count": 23,
   "metadata": {},
   "outputs": [
    {
     "data": {
      "image/png": "[encoded data removed]",
      "text/plain": [
       "<Figure size 432x288 with 2 Axes>"
      ]
     },
     "metadata": {
      "needs_background": "light"
     },
     "output_type": "display_data"
    }
   ],
   "source": [
    "# Show the spectrogram\n",
    "\n",
    "librosa.display.specshow(sample,\n",
    "                         y_axis='mel',\n",
    "                         x_axis='time')\n",
    "plt.colorbar(format='%+2.0f dB')\n",
    "plt.title('Mel spectrogram')\n",
    "plt.tight_layout()"
   ]
  },
  {
   "cell_type": "code",
   "execution_count": 25,
   "metadata": {},
   "outputs": [],
   "source": [
    "def tryint(s):\n",
    "    try:\n",
    "        return int(s)\n",
    "    except:\n",
    "        return s\n",
    "\n",
    "def alphanum_key(s):\n",
    "    \"\"\" Turn a string into a list of string and number chunks.\n",
    "        \"z23a\" -> [\"z\", 23, \"a\"]\n",
    "    \"\"\"\n",
    "    return [ tryint(c) for c in re.split('([0-9]+)', s) ]\n",
    "\n",
    "def sort_nicely(l):\n",
    "    \"\"\" Sort the given list in the way that humans expect.\n",
    "    \"\"\"\n",
    "    l.sort(key=alphanum_key)"
   ]
  },
  {
   "cell_type": "code",
   "execution_count": 27,
   "metadata": {},
   "outputs": [],
   "source": [
    "# dataset_path = 'data/audio_augmented/time_window_10_stride_10_max_10/'\n",
    "dataset_path = path\n",
    "filenames = os.listdir(dataset_path)\n",
    "\n",
    "if \".DS_Store\" in filenames:\n",
    "    filenames.remove(\".DS_Store\")\n",
    "\n",
    "sort_nicely(filenames)\n",
    "Xdb = []    \n",
    "    \n",
    "for filename in filenames:\n",
    "    X, sr = librosa.load(dataset_path + filename)\n",
    "    X = abs(soundwave_to_np_spectrogram(X))\n",
    "    X = X[0:95,:]\n",
    "    Xdb.append(X)"
   ]
  },
  {
   "cell_type": "code",
   "execution_count": 34,
   "metadata": {},
   "outputs": [],
   "source": [
    "spec_path = \"data/spectrogram/audio_augmented/time_window_\" + str(time_window) + \"_stride_\" + str(stride) + \"_max_\" + str(n_samples_max) + \"/\"\n",
    "\n",
    "if not os.path.exists(spec_path):\n",
    "    os.makedirs(spec_path)\n",
    "\n",
    "np.asarray(Xdb).dump(open(spec_path +\"Xdb.npy\", \"wb\"))\n",
    "np.asarray(level_array_extended).dump(open(spec_path + 'Y.npy', 'wb'))"
   ]
  },
  {
   "cell_type": "code",
   "execution_count": 38,
   "metadata": {},
   "outputs": [],
   "source": [
    "number_of_files = int(len(Xdb)/500)\n",
    "for i in range(number_of_files):\n",
    "    start = i * 500\n",
    "    end = start + 500 if start + 500 < len(Xdb) else len(Xdb)\n",
    "    np.asarray(Xdb[start:end]).dump(open('data/spectrogram/audio_augmented/time_window_10_stride_10_max_10/Xdb_' + str(i) + '.npy', 'wb'))\n",
    "    np.asarray(level_array_extended[start:end]).dump(open('data/spectrogram/audio_augmented/time_window_10_stride_10_max_10/Y_' + str(i) + '.npy', 'wb'))"
   ]
  },
  {
   "cell_type": "code",
   "execution_count": 37,
   "metadata": {},
   "outputs": [
    {
     "data": {
      "text/plain": [
       "\"Xdb = np.load(open('data/spectrogram/audio_augmented/time_window_10_stride_10_max_10/Xdb.npy', 'rb'))\""
      ]
     },
     "execution_count": 37,
     "metadata": {},
     "output_type": "execute_result"
    }
   ],
   "source": [
    "'''Xdb = np.load(open('data/spectrogram/audio_augmented/time_window_10_stride_10_max_10/Xdb.npy', 'rb'))'''"
   ]
  },
  {
   "cell_type": "code",
   "execution_count": 35,
   "metadata": {},
   "outputs": [
    {
     "name": "stdout",
     "output_type": "stream",
     "text": [
      "95 2412\n"
     ]
    }
   ],
   "source": [
    "# Size of the spectrogram. Every sample has the same length so only 1 size is calculated.\n",
    "\n",
    "alto, ancho = Xdb[0].shape\n",
    "print(alto, ancho)"
   ]
  },
  {
   "cell_type": "code",
   "execution_count": 36,
   "metadata": {},
   "outputs": [],
   "source": [
    "level_array_extended_new = np.asarray(level_array_extended)"
   ]
  },
  {
   "cell_type": "code",
   "execution_count": 52,
   "metadata": {},
   "outputs": [
    {
     "name": "stdout",
     "output_type": "stream",
     "text": [
      "(1869,)\n"
     ]
    },
    {
     "data": {
      "text/plain": [
       "1869"
      ]
     },
     "execution_count": 52,
     "metadata": {},
     "output_type": "execute_result"
    }
   ],
   "source": [
    "#print(np.asarray(Xdb).shape)\n",
    "print(level_array_extended_new.shape)\n",
    "len(Xdb)"
   ]
  },
  {
   "cell_type": "code",
   "execution_count": 38,
   "metadata": {},
   "outputs": [],
   "source": [
    "def split_by_phq_level(ds):\n",
    "    none_ds = ds[ds['level']==0]\n",
    "    mild_ds = ds[ds['level']==1]\n",
    "    moderate_ds = ds[ds['level']==2]\n",
    "    moderate_severe_ds = ds[ds['level']==3]\n",
    "    severe_ds = ds[ds['level']==4]\n",
    "    return (none_ds, mild_ds, moderate_ds, moderate_severe_ds, severe_ds)"
   ]
  },
  {
   "cell_type": "code",
   "execution_count": 63,
   "metadata": {},
   "outputs": [
    {
     "data": {
      "text/plain": [
       "(array([0, 1, 2, 3, 4]), array([255, 697, 461, 240, 216], dtype=int64))"
      ]
     },
     "execution_count": 63,
     "metadata": {},
     "output_type": "execute_result"
    }
   ],
   "source": [
    "np.unique(level_array_extended_new, return_counts=True)"
   ]
  },
  {
   "cell_type": "code",
   "execution_count": 67,
   "metadata": {},
   "outputs": [],
   "source": [
    "def distribute_levels(Xdb, level_array):\n",
    "    Xdb_shuffled, level_array_shuffled = shuffle(Xdb, level_array, random_state=0)\n",
    "    \n",
    "    levels, counts = np.unique(level_array, return_counts=True)\n",
    "    n_levels = len(levels)\n",
    "    \n",
    "    \n",
    "    X = [None] * n_levels\n",
    "    Y = [None] * n_levels\n",
    "       \n",
    "    for i in levels:\n",
    "        X[i] = np.compress(level_array_shuffled == i, Xdb_shuffled, axis = 0)\n",
    "        Y[i] = [i] * counts[i]\n",
    "    \n",
    "    X = np.array(X)\n",
    "    Y = np.array(Y)\n",
    "\n",
    "    return X, Y, levels, counts"
   ]
  },
  {
   "cell_type": "code",
   "execution_count": 68,
   "metadata": {},
   "outputs": [],
   "source": [
    "X, Y, levels, counts = distribute_levels(Xdb, level_array_extended_new)"
   ]
  },
  {
   "cell_type": "code",
   "execution_count": 173,
   "metadata": {},
   "outputs": [],
   "source": [
    "def distribute_sets(X, Y, levels, counts, split = [70,14,16]): \n",
    "    \n",
    "    n_levels = len(levels)\n",
    "        \n",
    "    X_dict = dict()\n",
    "    Y_dict = dict()\n",
    "    \n",
    "    last = np.zeros(n_levels)\n",
    "    prev = np.zeros(n_levels)\n",
    "   \n",
    "    for p in split:\n",
    "        X_dict['d'+str(p)] = []\n",
    "        Y_dict['d'+str(p)] = []\n",
    "        for i in levels:\n",
    "            last[i] = min(counts[i], prev[i] + round(counts[i] * p /100.))\n",
    "       \n",
    "        X_dict['d'+str(p)] = np.concatenate([X[i][int(prev[i]):int(last[i])] for i in levels], axis = 0)\n",
    "        Y_dict['d'+str(p)] = np.concatenate([Y[i][int(prev[i]):int(last[i])] for i in levels], axis = 0)\n",
    "        \n",
    "        prev = last.copy()\n",
    "        \n",
    "        \n",
    "    return (X_dict['d70'], Y_dict['d70'], X_dict['d14'], Y_dict['d14'], X_dict['d16'], Y_dict['d16'])"
   ]
  },
  {
   "cell_type": "code",
   "execution_count": 174,
   "metadata": {},
   "outputs": [],
   "source": [
    "X_train, Y_train, X_dev, Y_dev, X_test, Y_test = distribute_sets(X, Y, levels, counts)"
   ]
  },
  {
   "cell_type": "code",
   "execution_count": 176,
   "metadata": {},
   "outputs": [
    {
     "data": {
      "text/plain": [
       "(298, 95, 2412)"
      ]
     },
     "execution_count": 176,
     "metadata": {},
     "output_type": "execute_result"
    }
   ],
   "source": [
    "X_test.shape"
   ]
  },
  {
   "cell_type": "code",
   "execution_count": 177,
   "metadata": {},
   "outputs": [],
   "source": [
    "def reshape_to_cnn(X):\n",
    "    X_reshape = np.asarray(X.reshape(X.shape[0], X.shape[1], X.shape[2], 1))\n",
    "    return X_reshape"
   ]
  },
  {
   "cell_type": "code",
   "execution_count": 278,
   "metadata": {},
   "outputs": [],
   "source": [
    "X_train_cnn = reshape_to_cnn(X_train)\n",
    "X_dev_cnn = reshape_to_cnn(X_dev)\n",
    "X_test_cnn = reshape_to_cnn(X_test)\n",
    "\n",
    "Y_train_oh = keras.utils.to_categorical(Y_train)\n",
    "Y_dev_oh = keras.utils.to_categorical(Y_dev)\n",
    "Y_test_oh = keras.utils.to_categorical(Y_test)\n",
    "\n",
    "early_stopping = EarlyStopping(monitor='val_loss', patience=10)"
   ]
  },
  {
   "cell_type": "code",
   "execution_count": 256,
   "metadata": {},
   "outputs": [
    {
     "data": {
      "text/plain": [
       "(1308, 95, 2412)"
      ]
     },
     "execution_count": 256,
     "metadata": {},
     "output_type": "execute_result"
    }
   ],
   "source": [
    "X_train.shape"
   ]
  },
  {
   "cell_type": "code",
   "execution_count": 291,
   "metadata": {},
   "outputs": [],
   "source": [
    "def model(input_shape):\n",
    "    \"\"\"\n",
    "    Function creating the model's graph in Keras.\n",
    "    \n",
    "    Argument:\n",
    "    input_shape -- shape of the model's input data (using Keras conventions)\n",
    "\n",
    "    Returns:\n",
    "    model -- Keras model instance\n",
    "    \"\"\"\n",
    "    \n",
    "    X_input = Input(shape = input_shape)\n",
    "    \n",
    "    # Step 1: CONV layer \n",
    "    X = Dropout(rate = 0.2)(X_input) \n",
    "    X = Conv1D(filters = 100, kernel_size = 2, strides=1)(X)                              # CONV1D\n",
    "    X = BatchNormalization(axis=-1)(X)                                 # Batch normalization\n",
    "    X = Activation('relu')(X)                                 # ReLu activation\n",
    "    X = Dropout(rate = 0.4)(X)                                 # dropout (use 0.8)\n",
    "\n",
    "    # Step 2: First GRU Layer\n",
    "    X = GRU(units = 100, return_sequences = True)(X)                                # GRU (use 128 units and return the sequences)\n",
    "    X = Dropout(rate = 0.4)(X)                                 # dropout (use 0.8)\n",
    "    X = BatchNormalization(axis=-1)(X)                                 # Batch normalization\n",
    "    \n",
    "    # Step 3: Second GRU Layer\n",
    "    X = GRU(units = 100, return_sequences = False)(X)                                  # GRU (use 128 units and return the sequences)\n",
    "    X = Dropout(rate = 0.4)(X)                                 # dropout (use 0.8)\n",
    "    X = BatchNormalization(axis=-1)(X)                                 # Batch normalization\n",
    "    \n",
    "    # Step 4: Time-distributed dense layer (≈1 line)\n",
    "    X = Dense(5, activation = \"softmax\")(X) # sigmoid\n",
    "\n",
    "    model = Model(inputs = X_input, outputs = X)\n",
    "    \n",
    "    return model  "
   ]
  },
  {
   "cell_type": "code",
   "execution_count": 292,
   "metadata": {},
   "outputs": [],
   "source": [
    "model = model(input_shape = X_train[0].shape)"
   ]
  },
  {
   "cell_type": "code",
   "execution_count": 293,
   "metadata": {},
   "outputs": [
    {
     "name": "stdout",
     "output_type": "stream",
     "text": [
      "_________________________________________________________________\n",
      "Layer (type)                 Output Shape              Param #   \n",
      "=================================================================\n",
      "input_27 (InputLayer)        (None, 95, 2412)          0         \n",
      "_________________________________________________________________\n",
      "dropout_68 (Dropout)         (None, 95, 2412)          0         \n",
      "_________________________________________________________________\n",
      "conv1d_13 (Conv1D)           (None, 94, 100)           482500    \n",
      "_________________________________________________________________\n",
      "batch_normalization_61 (Batc (None, 94, 100)           400       \n",
      "_________________________________________________________________\n",
      "activation_14 (Activation)   (None, 94, 100)           0         \n",
      "_________________________________________________________________\n",
      "dropout_69 (Dropout)         (None, 94, 100)           0         \n",
      "_________________________________________________________________\n",
      "gru_22 (GRU)                 (None, 94, 100)           60300     \n",
      "_________________________________________________________________\n",
      "dropout_70 (Dropout)         (None, 94, 100)           0         \n",
      "_________________________________________________________________\n",
      "batch_normalization_62 (Batc (None, 94, 100)           400       \n",
      "_________________________________________________________________\n",
      "gru_23 (GRU)                 (None, 100)               60300     \n",
      "_________________________________________________________________\n",
      "dropout_71 (Dropout)         (None, 100)               0         \n",
      "_________________________________________________________________\n",
      "batch_normalization_63 (Batc (None, 100)               400       \n",
      "_________________________________________________________________\n",
      "dense_33 (Dense)             (None, 5)                 505       \n",
      "=================================================================\n",
      "Total params: 604,805\n",
      "Trainable params: 604,205\n",
      "Non-trainable params: 600\n",
      "_________________________________________________________________\n"
     ]
    }
   ],
   "source": [
    "model.summary()"
   ]
  },
  {
   "cell_type": "code",
   "execution_count": 294,
   "metadata": {},
   "outputs": [],
   "source": [
    "model.compile(optimizer=\"adam\",loss=\"categorical_crossentropy\",metrics=[\"accuracy\"])"
   ]
  },
  {
   "cell_type": "code",
   "execution_count": 296,
   "metadata": {},
   "outputs": [
    {
     "name": "stdout",
     "output_type": "stream",
     "text": [
      "Train on 1308 samples, validate on 263 samples\n",
      "Epoch 1/30\n",
      "1308/1308 [==============================] - 10s 8ms/step - loss: 1.5570 - acc: 0.3456 - val_loss: 1.6493 - val_acc: 0.3726\n",
      "Epoch 2/30\n",
      "1308/1308 [==============================] - 10s 8ms/step - loss: 1.5244 - acc: 0.3448 - val_loss: 1.6616 - val_acc: 0.1445\n",
      "Epoch 3/30\n",
      "1308/1308 [==============================] - 11s 8ms/step - loss: 1.5023 - acc: 0.3578 - val_loss: 1.6475 - val_acc: 0.1597\n",
      "Epoch 4/30\n",
      "1308/1308 [==============================] - 11s 9ms/step - loss: 1.4918 - acc: 0.3739 - val_loss: 1.5311 - val_acc: 0.3878\n",
      "Epoch 5/30\n",
      "1308/1308 [==============================] - 11s 9ms/step - loss: 1.4718 - acc: 0.3807 - val_loss: 1.5500 - val_acc: 0.3384\n",
      "Epoch 6/30\n",
      "1308/1308 [==============================] - 11s 9ms/step - loss: 1.4861 - acc: 0.3769 - val_loss: 2.3050 - val_acc: 0.1293\n",
      "Epoch 7/30\n",
      "1308/1308 [==============================] - 12s 9ms/step - loss: 1.4941 - acc: 0.3899 - val_loss: 1.9748 - val_acc: 0.1217\n",
      "Epoch 8/30\n",
      "1308/1308 [==============================] - 11s 9ms/step - loss: 1.4162 - acc: 0.4021 - val_loss: 1.7959 - val_acc: 0.1217\n",
      "Epoch 9/30\n",
      "1308/1308 [==============================] - 12s 9ms/step - loss: 1.3948 - acc: 0.4297 - val_loss: 1.6579 - val_acc: 0.1293\n",
      "Epoch 10/30\n",
      "1308/1308 [==============================] - 12s 9ms/step - loss: 1.3762 - acc: 0.4343 - val_loss: 1.5487 - val_acc: 0.3726\n",
      "Epoch 11/30\n",
      "1308/1308 [==============================] - 12s 9ms/step - loss: 1.3690 - acc: 0.4343 - val_loss: 1.7165 - val_acc: 0.3726\n",
      "Epoch 12/30\n",
      "1308/1308 [==============================] - 13s 10ms/step - loss: 1.3384 - acc: 0.4587 - val_loss: 1.7757 - val_acc: 0.2776\n",
      "Epoch 13/30\n",
      "1308/1308 [==============================] - 13s 10ms/step - loss: 1.3147 - acc: 0.4870 - val_loss: 1.7695 - val_acc: 0.1331\n",
      "Epoch 14/30\n",
      "1308/1308 [==============================] - 12s 9ms/step - loss: 1.2798 - acc: 0.4954 - val_loss: 1.8095 - val_acc: 0.1445\n"
     ]
    }
   ],
   "source": [
    "model_2gru_hist = model.fit(X_train, Y_train_oh, validation_data=(X_dev, Y_dev_oh), epochs = 30, batch_size = 64, shuffle = True, callbacks=[early_stopping])"
   ]
  },
  {
   "cell_type": "code",
   "execution_count": 290,
   "metadata": {},
   "outputs": [],
   "source": [
    "with open('models/model_2gru_hist.json', 'w') as f:\n",
    "    json.dump(model_2gru_hist.history, f)\n",
    "model.save('models/model_2gru.h5')"
   ]
  },
  {
   "cell_type": "code",
   "execution_count": 311,
   "metadata": {},
   "outputs": [
    {
     "name": "stdout",
     "output_type": "stream",
     "text": [
      "Test loss: 1.7908938635115657\n",
      "Test accuracy: 0.1476510067114094\n"
     ]
    }
   ],
   "source": [
    "score = model.evaluate(X_test, Y_test_oh, verbose=0)\n",
    "print('Test loss:', score[0])\n",
    "print('Test accuracy:', score[1])"
   ]
  },
  {
   "cell_type": "code",
   "execution_count": 325,
   "metadata": {},
   "outputs": [
    {
     "name": "stdout",
     "output_type": "stream",
     "text": [
      "[[  0   0   0  41   0]\n",
      " [  0   6   0 105   0]\n",
      " [  0   0   0  73   0]\n",
      " [  0   0   0  38   0]\n",
      " [  0   0   0  35   0]]\n"
     ]
    }
   ],
   "source": [
    "Y_predict = model.predict(X_test) \n",
    "confusionmatrix = confusion_matrix(Y_test_oh.argmax(axis=1), Y_predict.argmax(axis=1))\n",
    "print(confusionmatrix)"
   ]
  },
  {
   "cell_type": "code",
   "execution_count": 298,
   "metadata": {},
   "outputs": [
    {
     "data": {
      "image/png": "[encoded data removed]",
      "text/plain": [
       "<Figure size 432x288 with 1 Axes>"
      ]
     },
     "metadata": {
      "needs_background": "light"
     },
     "output_type": "display_data"
    }
   ],
   "source": [
    "plot_acc(model_2gru_hist)"
   ]
  },
  {
   "cell_type": "code",
   "execution_count": 302,
   "metadata": {},
   "outputs": [],
   "source": [
    "def model_cnn(input_shape):\n",
    "    \"\"\"\n",
    "    Function creating the model's graph in Keras.\n",
    "    \n",
    "    Argument:\n",
    "    input_shape -- shape of the model's input data (using Keras conventions)\n",
    "\n",
    "    Returns:\n",
    "    model -- Keras model instance\n",
    "    \"\"\"\n",
    "    \n",
    "    X_input = Input(shape = input_shape)\n",
    "    \n",
    "    # Step 1: CONV2D layer \n",
    "    X = Conv2D(filters = 50, kernel_size = (5,5), strides=(1, 4), padding='same', data_format=\"channels_last\", activation='relu')(X_input)      # CONV2D\n",
    "    X = MaxPooling2D(pool_size=(2, 4))(X)\n",
    "    X = BatchNormalization(axis=-1)(X)                                 # Batch normalization\n",
    "    X = Dropout(rate = 0.4)(X)                                 # dropout \n",
    "\n",
    "    # Step 2: CONV2D Layer\n",
    "    X = Conv2D(filters = 100, kernel_size = (5,5), strides=(1, 2), padding='same', data_format=\"channels_last\", activation='relu')(X)      # CONV2D\n",
    "    X = MaxPooling2D(pool_size=(2, 3))(X)\n",
    "    X = BatchNormalization(axis=-1)(X)                                 # Batch normalization\n",
    "    X = Dropout(rate = 0.4)(X)                                 # dropout \n",
    "    \n",
    "#     # Step 3: CONV2D Layer\n",
    "#     X = Conv2D(filters = 128, kernel_size = (3,3), strides=(1, 1), padding='same', data_format=\"channels_last\", activation='relu')(X)      # CONV2D\n",
    "#     X = MaxPooling2D(pool_size=(2, 3))(X)\n",
    "#     X = BatchNormalization(axis=-1)(X)                                 # Batch normalization\n",
    "#     X = Dropout(rate = 0.4)(X)   # dropout \n",
    "    \n",
    "#     # Step 4: CONV2D Layer\n",
    "#     X = Conv2D(filters = 250, kernel_size = (3,3), strides=(1, 1), padding='same', data_format=\"channels_last\", activation='relu')(X)      # CONV2D\n",
    "#     X = MaxPooling2D(pool_size=(2, 2))(X)\n",
    "#     X = BatchNormalization(axis=-1)(X)                                 # Batch normalization\n",
    "#     X = Dropout(rate = 0.2)(X)   # dropout \n",
    "    \n",
    "    # Step 4: Flatten and dense layer\n",
    "    X = Flatten()(X)\n",
    "    X = Dense(5, activation = \"relu\")(X)\n",
    "    X = Dense(5, activation = \"softmax\")(X)\n",
    "\n",
    "    model = Model(inputs = X_input, outputs = X)\n",
    "    \n",
    "    return model  "
   ]
  },
  {
   "cell_type": "code",
   "execution_count": 303,
   "metadata": {},
   "outputs": [],
   "source": [
    "model_cnn = model_cnn(input_shape = X_train_cnn[0].shape)"
   ]
  },
  {
   "cell_type": "code",
   "execution_count": 304,
   "metadata": {},
   "outputs": [
    {
     "name": "stdout",
     "output_type": "stream",
     "text": [
      "_________________________________________________________________\n",
      "Layer (type)                 Output Shape              Param #   \n",
      "=================================================================\n",
      "input_29 (InputLayer)        (None, 95, 2412, 1)       0         \n",
      "_________________________________________________________________\n",
      "conv2d_34 (Conv2D)           (None, 95, 603, 50)       1300      \n",
      "_________________________________________________________________\n",
      "max_pooling2d_30 (MaxPooling (None, 47, 150, 50)       0         \n",
      "_________________________________________________________________\n",
      "batch_normalization_66 (Batc (None, 47, 150, 50)       200       \n",
      "_________________________________________________________________\n",
      "dropout_74 (Dropout)         (None, 47, 150, 50)       0         \n",
      "_________________________________________________________________\n",
      "conv2d_35 (Conv2D)           (None, 47, 75, 100)       125100    \n",
      "_________________________________________________________________\n",
      "max_pooling2d_31 (MaxPooling (None, 23, 25, 100)       0         \n",
      "_________________________________________________________________\n",
      "batch_normalization_67 (Batc (None, 23, 25, 100)       400       \n",
      "_________________________________________________________________\n",
      "dropout_75 (Dropout)         (None, 23, 25, 100)       0         \n",
      "_________________________________________________________________\n",
      "flatten_12 (Flatten)         (None, 57500)             0         \n",
      "_________________________________________________________________\n",
      "dense_36 (Dense)             (None, 5)                 287505    \n",
      "_________________________________________________________________\n",
      "dense_37 (Dense)             (None, 5)                 30        \n",
      "=================================================================\n",
      "Total params: 414,535\n",
      "Trainable params: 414,235\n",
      "Non-trainable params: 300\n",
      "_________________________________________________________________\n"
     ]
    }
   ],
   "source": [
    "model_cnn.summary()"
   ]
  },
  {
   "cell_type": "code",
   "execution_count": 305,
   "metadata": {},
   "outputs": [],
   "source": [
    "model_cnn.compile(optimizer=\"adam\",loss=\"categorical_crossentropy\",metrics=[\"accuracy\"])"
   ]
  },
  {
   "cell_type": "code",
   "execution_count": 306,
   "metadata": {},
   "outputs": [],
   "source": [
    "# log best model\n",
    "checkpoint_best     = ModelCheckpoint('model_cnn_best',   monitor='loss', verbose=0, save_best_only=True, mode='auto')\n",
    "\n",
    "# log improved model\n",
    "checkpoint_epochs   = ModelCheckpoint('model_cnn_epochs', monitor='loss', verbose=0, save_best_only=True, mode='auto')\n"
   ]
  },
  {
   "cell_type": "code",
   "execution_count": 307,
   "metadata": {},
   "outputs": [
    {
     "name": "stdout",
     "output_type": "stream",
     "text": [
      "Train on 1308 samples, validate on 263 samples\n",
      "Epoch 1/10\n",
      "1308/1308 [==============================] - 157s 120ms/step - loss: 1.7430 - acc: 0.2645 - val_loss: 1.6780 - val_acc: 0.2510\n",
      "Epoch 2/10\n",
      "1308/1308 [==============================] - 164s 126ms/step - loss: 1.6424 - acc: 0.3624 - val_loss: 4.1314 - val_acc: 0.3498\n",
      "Epoch 3/10\n",
      "1308/1308 [==============================] - 162s 124ms/step - loss: 1.6227 - acc: 0.3731 - val_loss: 1.6626 - val_acc: 0.3764\n",
      "Epoch 4/10\n",
      "1308/1308 [==============================] - 165s 126ms/step - loss: 1.6255 - acc: 0.3723 - val_loss: 1.6387 - val_acc: 0.3688\n",
      "Epoch 5/10\n",
      "1308/1308 [==============================] - 165s 126ms/step - loss: 1.6265 - acc: 0.3723 - val_loss: 1.6269 - val_acc: 0.3688\n",
      "Epoch 6/10\n",
      "1308/1308 [==============================] - 160s 122ms/step - loss: 1.6076 - acc: 0.3723 - val_loss: 1.6268 - val_acc: 0.3688\n",
      "Epoch 7/10\n",
      "1308/1308 [==============================] - 167s 127ms/step - loss: 1.6008 - acc: 0.3723 - val_loss: 1.6212 - val_acc: 0.3688\n",
      "Epoch 8/10\n",
      "1308/1308 [==============================] - 164s 126ms/step - loss: 1.5948 - acc: 0.3723 - val_loss: 1.6162 - val_acc: 0.3688\n",
      "Epoch 9/10\n",
      "1308/1308 [==============================] - 164s 126ms/step - loss: 1.5897 - acc: 0.3723 - val_loss: 1.6118 - val_acc: 0.3688\n",
      "Epoch 10/10\n",
      "1308/1308 [==============================] - 171s 130ms/step - loss: 1.5839 - acc: 0.3746 - val_loss: 1.6073 - val_acc: 0.3688\n"
     ]
    }
   ],
   "source": [
    "model_cnn_hist = model_cnn.fit(X_train_cnn, Y_train_oh, validation_data=(X_dev_cnn, Y_dev_oh), epochs = 10, batch_size = 64, shuffle = True, callbacks=[early_stopping, checkpoint_best, checkpoint_epochs])"
   ]
  },
  {
   "cell_type": "code",
   "execution_count": 313,
   "metadata": {},
   "outputs": [
    {
     "name": "stdout",
     "output_type": "stream",
     "text": [
      "Test loss: 1.6002252173903804\n",
      "Test accuracy: 0.3724832214765101\n"
     ]
    }
   ],
   "source": [
    "score = model_cnn.evaluate(X_test_cnn, Y_test_oh, verbose=0)\n",
    "print('Test loss:', score[0])\n",
    "print('Test accuracy:', score[1])"
   ]
  },
  {
   "cell_type": "code",
   "execution_count": 327,
   "metadata": {},
   "outputs": [
    {
     "name": "stdout",
     "output_type": "stream",
     "text": [
      "[[  0  40   0   0   1]\n",
      " [  0 111   0   0   0]\n",
      " [  0  73   0   0   0]\n",
      " [  0  38   0   0   0]\n",
      " [  0  35   0   0   0]]\n"
     ]
    }
   ],
   "source": [
    "Y_predict = model_cnn.predict(X_test_cnn) \n",
    "confusionmatrix = confusion_matrix(Y_test_oh.argmax(axis=1), Y_predict.argmax(axis=1))\n",
    "print(confusionmatrix)"
   ]
  },
  {
   "cell_type": "code",
   "execution_count": 330,
   "metadata": {},
   "outputs": [
    {
     "data": {
      "text/plain": [
       "(298, 5)"
      ]
     },
     "execution_count": 330,
     "metadata": {},
     "output_type": "execute_result"
    }
   ],
   "source": [
    "Y_predict.shape"
   ]
  },
  {
   "cell_type": "code",
   "execution_count": 297,
   "metadata": {},
   "outputs": [],
   "source": [
    "with open('models/model_cnn_hist.json', 'w') as f:\n",
    "    json.dump(model_cnn_hist.history, f)\n",
    "model_cnn.save('models/model_cnn.h5')"
   ]
  },
  {
   "cell_type": "code",
   "execution_count": 231,
   "metadata": {},
   "outputs": [],
   "source": [
    "def plot_acc(history, title=\"Model Accuracy\"):\n",
    "    plt.plot(history.history['acc'])\n",
    "    plt.plot(history.history['val_acc'])\n",
    "    plt.title(title)\n",
    "    plt.ylabel('Accuracy')\n",
    "    plt.xlabel('Epoch')\n",
    "    plt.legend(['Train', 'Val'], loc='upper left')\n",
    "    plt.show()\n",
    "    \n",
    "def plot_loss(history, title=\"Model Loss\"):\n",
    "    plt.plot(history.history['loss'])\n",
    "    plt.plot(history.history['val_loss'])\n",
    "    plt.title(title)\n",
    "    plt.ylabel('Loss')\n",
    "    plt.xlabel('Epoch')\n",
    "    plt.legend(['Train', 'Val'], loc='upper right')\n",
    "    plt.show()\n",
    "    \n",
    "def plot_compare_losses(history1, history2, name1=\"Red 1\", name2=\"Red 2\", title=\"Graph title\"):\n",
    "    plt.plot(history1.history['loss'], color=\"green\")\n",
    "    plt.plot(history1.history['val_loss'], 'r--', color=\"green\")\n",
    "    plt.plot(history2.history['loss'], color=\"blue\")\n",
    "    plt.plot(history2.history['val_loss'], 'r--', color=\"blue\")\n",
    "    plt.title(title)\n",
    "    plt.ylabel('Loss')\n",
    "    plt.xlabel('Epoch')\n",
    "    plt.legend(['Train ' + name1, 'Val ' + name1, \n",
    "                'Train ' + name2, 'Val ' + name2],\n",
    "               loc='upper right')\n",
    "    plt.show()\n",
    "    \n",
    "def plot_compare_accs(history1, history2, name1=\"Red 1\",\n",
    "                      name2=\"Red 2\", title=\"Graph title\"):\n",
    "    \"\"\"Compara accuracies de dos entrenamientos con nombres name1 y name2\"\"\"\n",
    "    plt.plot(history1.history['acc'], color=\"green\")\n",
    "    plt.plot(history1.history['val_acc'], 'r--', color=\"green\")\n",
    "    plt.plot(history2.history['acc'], color=\"blue\")\n",
    "    plt.plot(history2.history['val_acc'], 'r--', color=\"blue\")\n",
    "    plt.title(title)\n",
    "    plt.ylabel('Accuracy')\n",
    "    plt.xlabel('Epoch')\n",
    "    plt.legend(['Train ' + name1, 'Val ' + name1, \n",
    "                'Train ' + name2, 'Val ' + name2], \n",
    "               loc='lower right')\n",
    "    plt.show()\n",
    "\n",
    "def plot_compare_multiple_metrics(history_array, names, colors, title=\"Graph title\", metric='acc'):  \n",
    "    legend = []\n",
    "    for i in range(0, len(history_array)):\n",
    "        plt.plot(history_array[i].history[metric], color=colors[i])\n",
    "        plt.plot(history_array[i].history['val_' + metric], 'r--', color=colors[i])\n",
    "        legend.append('Train ' + names[i])\n",
    "        legend.append('Val ' + names[i])\n",
    "    \n",
    "    plt.title(title)\n",
    "    plt.ylabel('Accuracy')\n",
    "    plt.xlabel('Epoch')   \n",
    "    plt.axis\n",
    "    plt.legend(legend, \n",
    "               loc='lower right')\n",
    "    plt.show()"
   ]
  },
  {
   "cell_type": "code",
   "execution_count": 309,
   "metadata": {},
   "outputs": [
    {
     "data": {
      "image/png": "[encoded data removed]",
      "text/plain": [
       "<Figure size 432x288 with 1 Axes>"
      ]
     },
     "metadata": {
      "needs_background": "light"
     },
     "output_type": "display_data"
    }
   ],
   "source": [
    "plot_acc(model_cnn_hist)"
   ]
  },
  {
   "cell_type": "code",
   "execution_count": null,
   "metadata": {},
   "outputs": [],
   "source": []
  }
 ],
 "metadata": {
  "kernelspec": {
   "display_name": "Python 3",
   "language": "python",
   "name": "python3"
  },
  "language_info": {
   "codemirror_mode": {
    "name": "ipython",
    "version": 3
   },
   "file_extension": ".py",
   "mimetype": "text/x-python",
   "name": "python",
   "nbconvert_exporter": "python",
   "pygments_lexer": "ipython3",
   "version": "3.6.8"
  }
 },
 "nbformat": 4,
 "nbformat_minor": 2
}
